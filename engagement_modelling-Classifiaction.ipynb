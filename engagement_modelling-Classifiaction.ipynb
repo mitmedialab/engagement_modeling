{
 "cells": [
  {
   "cell_type": "markdown",
   "id": "1e42fc71",
   "metadata": {},
   "source": [
    "# Modlling for engagement \n",
    "\n",
    "now we have the features and the lables, we are ready for modelling \n",
    "- Classification vs regression\n",
    "- 9 vs 5 vs 3 scales lables \n",
    "- 2.5 vs 5 s window (as is features, average featuers and concatenate features)\n",
    "- Two-stream Fusion on RGB + Flow \n",
    "\n",
    "This should be done over:\n",
    "- different network artchictures\n",
    "- cross different familys cross-validation \n",
    "\n",
    "Later on:\n",
    "- Handcrafted features "
   ]
  },
  {
   "cell_type": "markdown",
   "id": "9243c294",
   "metadata": {},
   "source": [
    "### imports and vars"
   ]
  },
  {
   "cell_type": "code",
   "execution_count": 1,
   "id": "7dacd562",
   "metadata": {},
   "outputs": [],
   "source": [
    "import sys\n",
    "import numpy as np\n",
    "import os\n",
    "import pandas as pd\n",
    "import itertools\n",
    "import pickle\n",
    "\n",
    "from collections import Counter\n",
    "from sklearn.utils import shuffle\n",
    "from imblearn.over_sampling import RandomOverSampler as resample\n",
    "\n",
    "lables_path = './labels/'\n",
    "features_path = './features/'\n",
    "results_path = './modelling_results/'"
   ]
  },
  {
   "cell_type": "markdown",
   "id": "b2a2f46d",
   "metadata": {},
   "source": [
    "### Keras modeling class "
   ]
  },
  {
   "cell_type": "markdown",
   "id": "ed83f4f9",
   "metadata": {},
   "source": [
    "### help functions \n"
   ]
  },
  {
   "cell_type": "code",
   "execution_count": 2,
   "id": "a6cebbfb",
   "metadata": {},
   "outputs": [],
   "source": [
    "import tensorflow as tf\n",
    "import keras\n",
    "from keras.models import Sequential\n",
    "from keras.layers import Dense, Dropout, Flatten\n",
    "\n",
    "import ConfigSpace as CS\n",
    "import ConfigSpace.hyperparameters as CSH\n",
    "\n",
    "from hpbandster.core.worker import Worker\n",
    "from hpbandster.optimizers import BOHB as BOHB\n",
    "import hpbandster.core.nameserver as hpns\n",
    "import hpbandster.core.result as hpres\n",
    "\n",
    "import tensorflow_addons as tfa\n",
    "\n",
    "import logging\n",
    "logging.basicConfig(level=logging.ERROR)\n",
    "\n",
    "class KerasWorker(Worker):\n",
    "    def __init__(self, input_shape, output_shape, problemType,\n",
    "                 x_train, y_train, x_validation, y_validation,\n",
    "                 x_test, y_test, shared_directory, **kwargs):\n",
    "            super().__init__(**kwargs)\n",
    "            self.input_shape = (input_shape, )\n",
    "            self.num_classes = output_shape\n",
    "            self.batch_size = 64\n",
    "            self.save_dic = shared_directory\n",
    "            \n",
    "            self.problemType = problemType\n",
    "\n",
    "            self.x_train, self.y_train = x_train, y_train\n",
    "            self.x_validation, self.y_validation = x_validation, y_validation\n",
    "            self.x_test, self.y_test = x_test, y_test\n",
    "\n",
    "    def compute(self, config, budget, working_directory, *args, **kwargs):\n",
    "            model = Sequential()\n",
    "            model.add(Dense(units=config['start_neurons_units'],\n",
    "                            # activation=config['start_neurons_activation'],\n",
    "                            activation='relu',\n",
    "                            input_shape=self.input_shape))\n",
    "\n",
    "\n",
    "            if config['num_dense_layers'] > 1:\n",
    "                model.add(Dense(units=config['dense1_units'],\n",
    "                                # activation=config['dense1_activation'],\n",
    "                                activation='relu',\n",
    "                                input_shape=self.input_shape))\n",
    "                model.add(Dropout(config['dropout1_rate']))\n",
    "\n",
    "            if config['num_dense_layers'] > 2:\n",
    "                model.add(Dense(units=config['dense2_units'],\n",
    "                                # activation=config['dense2_activation'],\n",
    "                                activation='relu',\n",
    "                                input_shape=self.input_shape))\n",
    "                model.add(Dropout(config['dropout2_rate']))\n",
    "\n",
    "            model.add(Dense(self.num_classes, activation='softmax'))\n",
    "\n",
    "\n",
    "            if config['optimizer'] == 'Adam':\n",
    "                    optimizer = tf.keras.optimizers.Adam(lr=config['lr'])\n",
    "            else:\n",
    "                    optimizer = tf.keras.optimizers.SGD(lr=config['lr'], momentum=config['sgd_momentum'])\n",
    "            \n",
    "            loss_fn = tf.keras.losses.CategoricalCrossentropy(from_logits=True)\n",
    "            \n",
    "            METRICS = [\n",
    "                  tf.keras.metrics.TruePositives(name='tp'),\n",
    "                  tf.keras.metrics.FalsePositives(name='fp'),\n",
    "                  tf.keras.metrics.TrueNegatives(name='tn'),\n",
    "                  tf.keras.metrics.FalseNegatives(name='fn'),\n",
    "                  tf.keras.metrics.BinaryAccuracy(name='accuracy'),\n",
    "                  tf.keras.metrics.Precision(name='precision'),\n",
    "                  tf.keras.metrics.Recall(name='recall'),\n",
    "                  tf.keras.metrics.AUC(name='auc'),\n",
    "                  tf.keras.metrics.BinaryCrossentropy(name='BinaryCrossentropy'),\n",
    "                  tfa.metrics.MatthewsCorrelationCoefficient(num_classes=self.num_classes)\n",
    "            ]\n",
    "\n",
    "            #METRICS.append(tfa.metrics.MatthewsCorrelationCoefficient(num_classes=self.num_classes))\n",
    "            \n",
    "            the_columns = ['thisloss','tp','fp','tn','fn','acc','prec','rec','auc','BC','MCC']\n",
    "            \n",
    "            model.compile(\n",
    "                loss=loss_fn,\n",
    "                optimizer=optimizer,\n",
    "                metrics=METRICS\n",
    "            )\n",
    "\n",
    "            # model.summary()\n",
    "            _history = model.fit(self.x_train, self.y_train,\n",
    "                              batch_size=self.batch_size,\n",
    "                              epochs=int(budget),\n",
    "                              verbose=0,\n",
    "                              validation_data=(self.x_validation, self.y_validation))\n",
    "\n",
    "            val_acc_per_epoch = _history.history['val_accuracy']\n",
    "            best_epoch = val_acc_per_epoch.index(max(val_acc_per_epoch)) + 1\n",
    "\n",
    "            model.fit(self.x_train, self.y_train,\n",
    "                              batch_size=self.batch_size,\n",
    "                              epochs=best_epoch,\n",
    "                              verbose=0,\n",
    "                              validation_data=(self.x_validation, self.y_validation))\n",
    "\n",
    "            train_score = model.evaluate(self.x_train, self.y_train, verbose=0)\n",
    "            val_score = model.evaluate(self.x_validation, self.y_validation, verbose=0)\n",
    "            test_score = model.evaluate(self.x_test, self.y_test, verbose=0)\n",
    "            \n",
    "            #print(test_score)\n",
    "\n",
    "            resultsDF = pd.DataFrame([train_score,val_score,test_score],\n",
    "                                     columns=the_columns,\n",
    "                                     index=[\"train_score\", \"val_score\", \"test_score\"],)\n",
    "            # print(resultsDF)\n",
    "            test_predictions_baseline = model.predict(self.x_test)\n",
    "            np.savetxt(os.path.join(self.save_dic,'testing_finalResults_true.out'), self.y_test, delimiter=',')\n",
    "            np.savetxt(os.path.join(self.save_dic,'testing_finalResults_pred.out'), test_predictions_baseline, delimiter=',')\n",
    "\n",
    "            return ({\n",
    "                'loss': test_score[0],  \n",
    "                'info':  resultsDF.to_dict('index')\n",
    "            })\n",
    "        \n",
    "#             #import IPython; IPython.embed()\n",
    "#             return ({\n",
    "#                 'loss': 1-val_score[1], # remember: HpBandSter always minimizes!\n",
    "#                 'info': {'test accuracy': test_score[1],\n",
    "#                             'train accuracy': train_score[1],\n",
    "#                             'validation accuracy': val_score[1],\n",
    "#                             'number of parameters': model.count_params(),\n",
    "#                         }\n",
    "\n",
    "#             })\n",
    "\n",
    "\n",
    "    @staticmethod\n",
    "    def get_configspace():\n",
    "            \"\"\"\n",
    "            It builds the configuration space with the needed hyperparameters.\n",
    "            It is easily possible to implement different types of hyperparameters.\n",
    "            Beside float-hyperparameters on a log scale, it is also able to handle categorical input parameter.\n",
    "            :return: ConfigurationsSpace-Object\n",
    "            \"\"\"\n",
    "            cs = CS.ConfigurationSpace()\n",
    "\n",
    "            lr = CSH.UniformFloatHyperparameter('lr', lower=1e-6, upper=1e-1, default_value='1e-2', log=True)\n",
    "\n",
    "            # For demonstration purposes, we add different optimizers as categorical hyperparameters.\n",
    "            # To show how to use conditional hyperparameters with ConfigSpace, we'll add the optimizers 'Adam' and 'SGD'.\n",
    "            # SGD has a different parameter 'momentum'.\n",
    "            optimizer = CSH.CategoricalHyperparameter('optimizer', ['Adam', 'SGD'])\n",
    "\n",
    "            sgd_momentum = CSH.UniformFloatHyperparameter('sgd_momentum', lower=0.0, upper=0.99, default_value=0.9, log=False)\n",
    "\n",
    "            cs.add_hyperparameters([lr, optimizer, sgd_momentum])\n",
    "\n",
    "\n",
    "\n",
    "            num_dense_layers =  CSH.UniformIntegerHyperparameter('num_dense_layers', lower=1, upper=3, default_value=2)\n",
    "\n",
    "            start_neurons_units = CSH.UniformIntegerHyperparameter('start_neurons_units', lower=32, upper=512, default_value=32, log=True)\n",
    "            dense1_units = CSH.UniformIntegerHyperparameter('dense1_units', lower=8, upper=128, default_value=16, log=True)\n",
    "            dense2_units = CSH.UniformIntegerHyperparameter('dense2_units', lower=4, upper=64, default_value=8, log=True)\n",
    "\n",
    "            cs.add_hyperparameters([num_dense_layers, start_neurons_units, dense1_units, dense2_units])\n",
    "\n",
    "            # start_neurons_activation = CSH.CategoricalHyperparameter('start_neurons_activation', ['relu', 'tanh', 'sigmoid'])\n",
    "            # dense1_activation = CSH.CategoricalHyperparameter('dense1_activation', ['relu', 'tanh', 'sigmoid'])\n",
    "            # dense2_activation = CSH.CategoricalHyperparameter('dense2_activation', ['relu', 'tanh', 'sigmoid'])\n",
    "            # start_neurons_activation = CSH.CategoricalHyperparameter('start_neurons_activation', ['relu'])\n",
    "            # dense1_activation = CSH.CategoricalHyperparameter('dense1_activation', ['relu'])\n",
    "            # dense2_activation = CSH.CategoricalHyperparameter('dense2_activation', ['relu'])\n",
    "            #\n",
    "            # cs.add_hyperparameters([start_neurons_activation, dense1_activation, dense2_activation])\n",
    "\n",
    "            dropout1_rate = CSH.UniformFloatHyperparameter('dropout1_rate', lower=0.0, upper=0.9, default_value=0.5, log=False)\n",
    "            dropout2_rate = CSH.UniformFloatHyperparameter('dropout2_rate', lower=0.0, upper=0.9, default_value=0.5, log=False)\n",
    "\n",
    "            cs.add_hyperparameters([dropout1_rate, dropout2_rate])\n",
    "\n",
    "\n",
    "            # The hyperparameter sgd_momentum will be used,if the configuration\n",
    "            # contains 'SGD' as optimizer.\n",
    "            cond = CS.EqualsCondition(sgd_momentum, optimizer, 'SGD')\n",
    "            cs.add_condition(cond)\n",
    "\n",
    "            # You can also use inequality conditions:\n",
    "            cond = CS.GreaterThanCondition(dense1_units, num_dense_layers, 1)\n",
    "            cs.add_condition(cond)\n",
    "\n",
    "            cond = CS.GreaterThanCondition(dense2_units, num_dense_layers, 2)\n",
    "            cs.add_condition(cond)\n",
    "\n",
    "            return cs\n"
   ]
  },
  {
   "cell_type": "code",
   "execution_count": 4,
   "id": "ac1b61f1",
   "metadata": {},
   "outputs": [],
   "source": [
    "def load_sub_dataset_twostream(familiesSet, label_folder, feature_folder):\n",
    "    # append all rows of subjects, and their lables\n",
    "    allFrames = np.array([])\n",
    "    allLables = np.array([])\n",
    "    \n",
    "    rgb_feature_folder = feature_folder.replace(featureType,'rgb')\n",
    "    flow_feature_folder = feature_folder.replace(featureType,'flow')\n",
    "    for this_family in familiesSet:\n",
    "        onlyfiles = [f for f in os.listdir(rgb_feature_folder) if\n",
    "                       os.path.isfile(os.path.join(rgb_feature_folder, f))\n",
    "                       and f.startswith(this_family + '_')]\n",
    "        onlyfiles.sort()\n",
    "\n",
    "        for this_file in onlyfiles:\n",
    "            this_lable_file = this_file.replace('_'+this_file.split('_')[4],'')+'.npy'\n",
    "            currLabel = np.load(os.path.join(label_folder,this_lable_file))\n",
    "            \n",
    "            rgb_currData = np.load(os.path.join(rgb_feature_folder,this_file))    \n",
    "            flow_currData = np.load(os.path.join(flow_feature_folder,this_file.replace('rgb','flow')))\n",
    "            \n",
    "            currData = np.hstack((rgb_currData, flow_currData))\n",
    "            \n",
    "            if allFrames.shape[0] ==0:\n",
    "                allFrames = currData\n",
    "                allLables = currLabel\n",
    "            else:\n",
    "                allFrames = np.vstack((allFrames, currData))\n",
    "                allLables = np.hstack((allLables, currLabel))\n",
    "\n",
    "    return allFrames, allLables\n",
    "\n",
    "def load_sub_dataset(familiesSet, label_folder, feature_folder, featureType):\n",
    "    # append all rows of subjects, and their lables\n",
    "    allFrames = np.array([])\n",
    "    allLables = np.array([])\n",
    "    \n",
    "    if featureType == 'twostream':\n",
    "        return load_sub_dataset_twostream(familiesSet, label_folder, feature_folder)\n",
    "    \n",
    "    for this_family in familiesSet:\n",
    "        # F10_Interaction_1_P27_rgb.npy\n",
    "        onlyfiles = [f for f in os.listdir(feature_folder) if\n",
    "                       os.path.isfile(os.path.join(feature_folder, f))\n",
    "                       and f.startswith(this_family + '_')]\n",
    "        onlyfiles.sort()\n",
    "\n",
    "        for this_file in onlyfiles:\n",
    "            currData = np.load(os.path.join(feature_folder,this_file))            \n",
    "            substr = '_'.join(this_file.split('_')[4:])\n",
    "            this_lable_file = this_file.replace('_'+substr,'')+'.npy'\n",
    "            currLabel = np.load(os.path.join(label_folder,this_lable_file))\n",
    "            cutoff = min(len(currData), len(currLabel))\n",
    "            currData = currData[:cutoff,:]\n",
    "            currLabel =currLabel[:cutoff]\n",
    "            \n",
    "            \n",
    "            if allFrames.shape[0] ==0:\n",
    "                allFrames = currData\n",
    "                allLables = currLabel\n",
    "            else:\n",
    "                allFrames = np.vstack((allFrames, currData))\n",
    "                allLables = np.hstack((allLables, currLabel))\n",
    "\n",
    "    return allFrames, allLables\n",
    "\n",
    "def load_dataset_selectedSubj(trainSubjs, valSubjs, testSubjs, label_folder, feature_folder,\\\n",
    "                              prblemType, featureType, num_classes):\n",
    "    #simple sampeling method\n",
    "    #TODO: SMOTE, DeepSMOTE, DeepFake?\n",
    "    sm = resample()\n",
    "    # load all train\n",
    "    trainX, trainy = load_sub_dataset(trainSubjs, label_folder, feature_folder, featureType)\n",
    "    trainX, trainy = shuffle(trainX, trainy)\n",
    "    trainX, trainy = sm.fit_resample(trainX, trainy)\n",
    "    print(trainX.shape, Counter(trainy))\n",
    "    # train_class_weight = sumary_data(trainy)\n",
    "\n",
    "    # load validation\n",
    "    valX, valy = load_sub_dataset(valSubjs, label_folder, feature_folder, featureType)\n",
    "    valX, valy = shuffle(valX, valy)\n",
    "    valX, valy = sm.fit_resample(valX, valy)\n",
    "    print(valX.shape, Counter(valy))\n",
    "    # val_class_weight = sumary_data(valy)\n",
    "\n",
    "\n",
    "    # load all test\n",
    "    testX, testy = load_sub_dataset(testSubjs, label_folder, feature_folder, featureType)\n",
    "    testX, testy = sm.fit_resample(testX, testy)\n",
    "    print(testX.shape, Counter(testy))\n",
    "    # test_class_weight = sumary_data(testy)\n",
    "\n",
    "    # one hot encode y\n",
    "    trainy = tf.keras.utils.to_categorical(trainy,  num_classes=num_classes)\n",
    "    valy = tf.keras.utils.to_categorical(valy,  num_classes=num_classes)\n",
    "    testy = tf.keras.utils.to_categorical(testy,  num_classes=num_classes)\n",
    "    \n",
    "    return trainX, trainy, valX, valy , testX, testy, num_classes\n",
    "    \n",
    "def create_modlling(label_folder,feature_folder,result_folder, prblemType, featureType, num_classes):    \n",
    "    # repeat experiment\n",
    "    temp = {}\n",
    "    all_trainSubjs = [['F' + str(i) for i in [1, 2, 3, 4, 5, 6, 8]]]\n",
    "    all_valSubjs = [['F' + str(i) for i in [11, 17]]]\n",
    "    all_testSubjs = [['F' + str(i) for i in [7, 10, 13]]]\n",
    "    \n",
    "    min_budget = 9\n",
    "    max_budget = 243\n",
    "    n_iterations = 50\n",
    "    num_workers = 12\n",
    "\n",
    "    for r in range(len(all_trainSubjs)):\n",
    "        shared_directory = result_folder + '_'+ str(r) \n",
    "        if os.path.exists(shared_directory):\n",
    "            print(shared_directory,' already processed')\n",
    "            continue\n",
    "        \n",
    "        print(shared_directory,' under processing')\n",
    "        classType = os.path.basename(shared_directory)\n",
    "\n",
    "        host = hpns.nic_name_to_host('lo')\n",
    "        result_logger = hpres.json_result_logger(directory=shared_directory, overwrite=True)\n",
    "        NS = hpns.NameServer(run_id=classType, host=host, port=0, working_directory=shared_directory)\n",
    "        ns_host, ns_port = NS.start()\n",
    "    \n",
    "        # load data\n",
    "        trainSubjs = all_trainSubjs[r]\n",
    "        valSubjs = all_valSubjs[r]\n",
    "        testSubjs = all_testSubjs[r]\n",
    "        \n",
    "        trainX, trainy, valX, valy, testX, testy, num_classes = \\\n",
    "            load_dataset_selectedSubj(trainSubjs, valSubjs, testSubjs, \\\n",
    "                                      label_folder, feature_folder, prblemType, featureType, num_classes)\n",
    "        \n",
    "        \n",
    "        n_timesteps, n_features, n_outputs = trainX.shape[0], trainX.shape[1], num_classes        \n",
    "        \n",
    "        workers = []\n",
    "        for i in range(num_workers):\n",
    "            worker = KerasWorker(n_features, n_outputs, prblemType, \\\n",
    "                                 trainX, trainy, valX, valy, testX, testy, \\\n",
    "                                 shared_directory,\n",
    "                                 run_id=classType,host=host, nameserver=ns_host, nameserver_port=ns_port,\n",
    "                                 id=i)\n",
    "            worker.run(background=True)\n",
    "            workers.append(worker)\n",
    "\n",
    "        bohb = BOHB(configspace=worker.get_configspace(),\n",
    "                  run_id=classType,\n",
    "                  host=host,\n",
    "                  nameserver=ns_host,\n",
    "                  nameserver_port=ns_port,\n",
    "                  result_logger=result_logger,\n",
    "                  min_budget=min_budget, max_budget=max_budget\n",
    "                    )\n",
    "        res = bohb.run(n_iterations=1,  min_n_workers=num_workers)\n",
    "\n",
    "        id2config = res.get_id2config_mapping()\n",
    "        incumbent = res.get_incumbent_id()\n",
    "\n",
    "        print('Best found configuration:', id2config[incumbent]['config'])\n",
    "        # print('A total of %i unique configurations where sampled.' % len(id2config.keys()))\n",
    "        # print('A total of %i runs where executed.' % len(res.get_all_runs()))\n",
    "        # print('Total budget corresponds to %.1f full function evaluations.' % (\n",
    "        #             sum([r.budget for r in res.get_all_runs()]) / max_budget))\n",
    "\n",
    "        # store results\n",
    "        with open(os.path.join(shared_directory, 'results.pkl'), 'wb') as fh:\n",
    "            pickle.dump(res, fh)\n",
    "\n",
    "        # shutdown\n",
    "        bohb.shutdown(shutdown_workers=True)\n",
    "        NS.shutdown()\n"
   ]
  },
  {
   "cell_type": "markdown",
   "id": "136b9729",
   "metadata": {},
   "source": [
    "### modeling"
   ]
  },
  {
   "cell_type": "code",
   "execution_count": 4,
   "id": "4d9e58a3",
   "metadata": {
    "scrolled": true
   },
   "outputs": [
    {
     "name": "stdout",
     "output_type": "stream",
     "text": [
      "27\n",
      "Working on:  classification rgb 9 5 conc\n",
      "./modelling_results/rgb_classification_9_5_conc_0  under processing\n",
      "(32410, 2048) Counter({2.0: 4630, 3.0: 4630, 1.0: 4630, 4.0: 4630, 0.0: 4630, -2.0: 4630, -1.0: 4630})\n",
      "(7875, 2048) Counter({3.0: 1125, 2.0: 1125, 0.0: 1125, 1.0: 1125, 4.0: 1125, -2.0: 1125, -1.0: 1125})\n",
      "(4790, 2048) Counter({0.0: 958, 1.0: 958, 2.0: 958, 3.0: 958, 4.0: 958})\n"
     ]
    },
    {
     "name": "stderr",
     "output_type": "stream",
     "text": [
      "2021-10-27 23:23:12.133007: I tensorflow/stream_executor/cuda/cuda_gpu_executor.cc:937] successful NUMA node read from SysFS had negative value (-1), but there must be at least one NUMA node, so returning NUMA node zero\n",
      "2021-10-27 23:23:12.138034: W tensorflow/stream_executor/platform/default/dso_loader.cc:64] Could not load dynamic library 'libcusolver.so.11'; dlerror: libcusolver.so.11: cannot open shared object file: No such file or directory; LD_LIBRARY_PATH: /home/sharifa/catkin_ws/devel/lib:/usr/local/cuda-11.0/lib64\n",
      "2021-10-27 23:23:12.138911: W tensorflow/stream_executor/platform/default/dso_loader.cc:64] Could not load dynamic library 'libcudnn.so.8'; dlerror: libcudnn.so.8: cannot open shared object file: No such file or directory; LD_LIBRARY_PATH: /home/sharifa/catkin_ws/devel/lib:/usr/local/cuda-11.0/lib64\n",
      "2021-10-27 23:23:12.138936: W tensorflow/core/common_runtime/gpu/gpu_device.cc:1835] Cannot dlopen some GPU libraries. Please make sure the missing libraries mentioned above are installed properly if you would like to use GPU. Follow the guide at https://www.tensorflow.org/install/gpu for how to download and setup the required libraries for your platform.\n",
      "Skipping registering GPU devices...\n",
      "2021-10-27 23:23:12.140352: I tensorflow/core/platform/cpu_feature_guard.cc:142] This TensorFlow binary is optimized with oneAPI Deep Neural Network Library (oneDNN) to use the following CPU instructions in performance-critical operations:  AVX2 FMA\n",
      "To enable them in other operations, rebuild TensorFlow with the appropriate compiler flags.\n",
      "/home/sharifa/engagement_modeling/eng_env/lib/python3.8/site-packages/keras/optimizer_v2/optimizer_v2.py:355: UserWarning: The `lr` argument is deprecated, use `learning_rate` instead.\n",
      "  warnings.warn(\n",
      "2021-10-27 23:23:14.831402: I tensorflow/compiler/mlir/mlir_graph_optimization_pass.cc:185] None of the MLIR Optimization Passes are enabled (registered 2)\n",
      "/home/sharifa/engagement_modeling/eng_env/lib/python3.8/site-packages/keras/backend.py:4846: UserWarning: \"`categorical_crossentropy` received `from_logits=True`, but the `output` argument was produced by a sigmoid or softmax activation and thus does not represent logits. Was this intended?\"\n",
      "  warnings.warn(\n"
     ]
    },
    {
     "name": "stdout",
     "output_type": "stream",
     "text": [
      "Best found configuration: {'dropout1_rate': 0.5804777682828415, 'dropout2_rate': 0.14342378718784596, 'lr': 1.2875175408769352e-06, 'num_dense_layers': 2, 'optimizer': 'Adam', 'start_neurons_units': 442, 'dense1_units': 113}\n",
      "Working on:  classification rgb 9 5 avg\n",
      "./modelling_results/rgb_classification_9_5_avg_0  under processing\n",
      "(32410, 1024) Counter({4.0: 4630, 2.0: 4630, 1.0: 4630, 3.0: 4630, 0.0: 4630, -2.0: 4630, -1.0: 4630})\n",
      "(7875, 1024) Counter({0.0: 1125, 2.0: 1125, 4.0: 1125, 3.0: 1125, 1.0: 1125, -2.0: 1125, -1.0: 1125})\n",
      "(4790, 1024) Counter({0.0: 958, 1.0: 958, 2.0: 958, 3.0: 958, 4.0: 958})\n"
     ]
    },
    {
     "name": "stderr",
     "output_type": "stream",
     "text": [
      "/home/sharifa/engagement_modeling/eng_env/lib/python3.8/site-packages/keras/optimizer_v2/optimizer_v2.py:355: UserWarning: The `lr` argument is deprecated, use `learning_rate` instead.\n",
      "  warnings.warn(\n",
      "/home/sharifa/engagement_modeling/eng_env/lib/python3.8/site-packages/keras/backend.py:4846: UserWarning: \"`categorical_crossentropy` received `from_logits=True`, but the `output` argument was produced by a sigmoid or softmax activation and thus does not represent logits. Was this intended?\"\n",
      "  warnings.warn(\n"
     ]
    },
    {
     "name": "stdout",
     "output_type": "stream",
     "text": [
      "Best found configuration: {'dropout1_rate': 0.7227782661331077, 'dropout2_rate': 0.7642971670657839, 'lr': 0.006677802781385853, 'num_dense_layers': 3, 'optimizer': 'SGD', 'start_neurons_units': 193, 'dense1_units': 109, 'dense2_units': 5, 'sgd_momentum': 0.6339122305883391}\n",
      "Working on:  classification rgb 9 2.5 none\n",
      "./modelling_results/rgb_classification_9_2.5_none_0  already processed\n",
      "Working on:  classification rgb 5 5 conc\n",
      "./modelling_results/rgb_classification_5_5_conc_0  under processing\n",
      "(24132, 2048) Counter({1.0: 6033, 2.0: 6033, -1.0: 6033, 0.0: 6033})\n",
      "(4960, 2048) Counter({1.0: 1240, 2.0: 1240, 0.0: 1240, -1.0: 1240})\n",
      "(3477, 2048) Counter({0.0: 1159, 1.0: 1159, 2.0: 1159})\n"
     ]
    },
    {
     "name": "stderr",
     "output_type": "stream",
     "text": [
      "/home/sharifa/engagement_modeling/eng_env/lib/python3.8/site-packages/keras/optimizer_v2/optimizer_v2.py:355: UserWarning: The `lr` argument is deprecated, use `learning_rate` instead.\n",
      "  warnings.warn(\n",
      "/home/sharifa/engagement_modeling/eng_env/lib/python3.8/site-packages/keras/backend.py:4846: UserWarning: \"`categorical_crossentropy` received `from_logits=True`, but the `output` argument was produced by a sigmoid or softmax activation and thus does not represent logits. Was this intended?\"\n",
      "  warnings.warn(\n"
     ]
    },
    {
     "name": "stdout",
     "output_type": "stream",
     "text": [
      "WARNING:tensorflow:5 out of the last 146 calls to <function Model.make_train_function.<locals>.train_function at 0x7f61a8616940> triggered tf.function retracing. Tracing is expensive and the excessive number of tracings could be due to (1) creating @tf.function repeatedly in a loop, (2) passing tensors with different shapes, (3) passing Python objects instead of tensors. For (1), please define your @tf.function outside of the loop. For (2), @tf.function has experimental_relax_shapes=True option that relaxes argument shapes that can avoid unnecessary retracing. For (3), please refer to https://www.tensorflow.org/guide/function#controlling_retracing and https://www.tensorflow.org/api_docs/python/tf/function for  more details.\n"
     ]
    },
    {
     "name": "stderr",
     "output_type": "stream",
     "text": [
      "WARNING:tensorflow:5 out of the last 146 calls to <function Model.make_train_function.<locals>.train_function at 0x7f61a8616940> triggered tf.function retracing. Tracing is expensive and the excessive number of tracings could be due to (1) creating @tf.function repeatedly in a loop, (2) passing tensors with different shapes, (3) passing Python objects instead of tensors. For (1), please define your @tf.function outside of the loop. For (2), @tf.function has experimental_relax_shapes=True option that relaxes argument shapes that can avoid unnecessary retracing. For (3), please refer to https://www.tensorflow.org/guide/function#controlling_retracing and https://www.tensorflow.org/api_docs/python/tf/function for  more details.\n"
     ]
    },
    {
     "name": "stdout",
     "output_type": "stream",
     "text": [
      "WARNING:tensorflow:6 out of the last 148 calls to <function Model.make_train_function.<locals>.train_function at 0x7f60e838b0d0> triggered tf.function retracing. Tracing is expensive and the excessive number of tracings could be due to (1) creating @tf.function repeatedly in a loop, (2) passing tensors with different shapes, (3) passing Python objects instead of tensors. For (1), please define your @tf.function outside of the loop. For (2), @tf.function has experimental_relax_shapes=True option that relaxes argument shapes that can avoid unnecessary retracing. For (3), please refer to https://www.tensorflow.org/guide/function#controlling_retracing and https://www.tensorflow.org/api_docs/python/tf/function for  more details.\n"
     ]
    },
    {
     "name": "stderr",
     "output_type": "stream",
     "text": [
      "WARNING:tensorflow:6 out of the last 148 calls to <function Model.make_train_function.<locals>.train_function at 0x7f60e838b0d0> triggered tf.function retracing. Tracing is expensive and the excessive number of tracings could be due to (1) creating @tf.function repeatedly in a loop, (2) passing tensors with different shapes, (3) passing Python objects instead of tensors. For (1), please define your @tf.function outside of the loop. For (2), @tf.function has experimental_relax_shapes=True option that relaxes argument shapes that can avoid unnecessary retracing. For (3), please refer to https://www.tensorflow.org/guide/function#controlling_retracing and https://www.tensorflow.org/api_docs/python/tf/function for  more details.\n"
     ]
    },
    {
     "name": "stdout",
     "output_type": "stream",
     "text": [
      "Best found configuration: {'dropout1_rate': 0.31105196836294424, 'dropout2_rate': 0.5438865098652045, 'lr': 1.1843646840316865e-06, 'num_dense_layers': 2, 'optimizer': 'Adam', 'start_neurons_units': 449, 'dense1_units': 49}\n",
      "Working on:  classification rgb 5 5 avg\n",
      "./modelling_results/rgb_classification_5_5_avg_0  under processing\n",
      "(24132, 1024) Counter({1.0: 6033, 2.0: 6033, 0.0: 6033, -1.0: 6033})\n",
      "(4960, 1024) Counter({1.0: 1240, 2.0: 1240, 0.0: 1240, -1.0: 1240})\n",
      "(3477, 1024) Counter({0.0: 1159, 1.0: 1159, 2.0: 1159})\n"
     ]
    },
    {
     "name": "stderr",
     "output_type": "stream",
     "text": [
      "/home/sharifa/engagement_modeling/eng_env/lib/python3.8/site-packages/keras/optimizer_v2/optimizer_v2.py:355: UserWarning: The `lr` argument is deprecated, use `learning_rate` instead.\n",
      "  warnings.warn(\n",
      "/home/sharifa/engagement_modeling/eng_env/lib/python3.8/site-packages/keras/backend.py:4846: UserWarning: \"`categorical_crossentropy` received `from_logits=True`, but the `output` argument was produced by a sigmoid or softmax activation and thus does not represent logits. Was this intended?\"\n",
      "  warnings.warn(\n"
     ]
    },
    {
     "name": "stdout",
     "output_type": "stream",
     "text": [
      "Best found configuration: {'dropout1_rate': 0.16823740709213506, 'dropout2_rate': 0.5789573146694799, 'lr': 0.000266351426107173, 'num_dense_layers': 3, 'optimizer': 'SGD', 'start_neurons_units': 408, 'dense1_units': 95, 'dense2_units': 54, 'sgd_momentum': 0.4220022620713826}\n",
      "Working on:  classification rgb 5 2.5 none\n",
      "./modelling_results/rgb_classification_5_2.5_none_0  already processed\n",
      "Working on:  classification rgb 3 5 conc\n",
      "./modelling_results/rgb_classification_3_5_conc_0  under processing\n",
      "(22686, 2048) Counter({1.0: 7562, -1.0: 7562, -0.0: 7562})\n",
      "(4764, 2048) Counter({1.0: 1588, -1.0: 1588, 0.0: 1588})\n",
      "(5433, 2048) Counter({0.0: 1811, 1.0: 1811, -1.0: 1811})\n"
     ]
    },
    {
     "name": "stderr",
     "output_type": "stream",
     "text": [
      "/home/sharifa/engagement_modeling/eng_env/lib/python3.8/site-packages/keras/optimizer_v2/optimizer_v2.py:355: UserWarning: The `lr` argument is deprecated, use `learning_rate` instead.\n",
      "  warnings.warn(\n",
      "/home/sharifa/engagement_modeling/eng_env/lib/python3.8/site-packages/keras/backend.py:4846: UserWarning: \"`categorical_crossentropy` received `from_logits=True`, but the `output` argument was produced by a sigmoid or softmax activation and thus does not represent logits. Was this intended?\"\n",
      "  warnings.warn(\n"
     ]
    },
    {
     "name": "stdout",
     "output_type": "stream",
     "text": [
      "Best found configuration: {'dropout1_rate': 0.4578626770707619, 'dropout2_rate': 0.14279261199755536, 'lr': 1.026901907393383e-05, 'num_dense_layers': 1, 'optimizer': 'SGD', 'start_neurons_units': 237, 'sgd_momentum': 0.09321176792908406}\n",
      "Working on:  classification rgb 3 5 avg\n",
      "./modelling_results/rgb_classification_3_5_avg_0  under processing\n",
      "(22686, 1024) Counter({-1.0: 7562, 0.0: 7562, 1.0: 7562})\n",
      "(4764, 1024) Counter({1.0: 1588, 0.0: 1588, -1.0: 1588})\n",
      "(5433, 1024) Counter({0.0: 1811, 1.0: 1811, -1.0: 1811})\n"
     ]
    },
    {
     "name": "stderr",
     "output_type": "stream",
     "text": [
      "/home/sharifa/engagement_modeling/eng_env/lib/python3.8/site-packages/keras/optimizer_v2/optimizer_v2.py:355: UserWarning: The `lr` argument is deprecated, use `learning_rate` instead.\n",
      "  warnings.warn(\n",
      "/home/sharifa/engagement_modeling/eng_env/lib/python3.8/site-packages/keras/backend.py:4846: UserWarning: \"`categorical_crossentropy` received `from_logits=True`, but the `output` argument was produced by a sigmoid or softmax activation and thus does not represent logits. Was this intended?\"\n",
      "  warnings.warn(\n"
     ]
    },
    {
     "name": "stdout",
     "output_type": "stream",
     "text": [
      "Best found configuration: {'dropout1_rate': 0.23086241256816806, 'dropout2_rate': 0.11845107400665122, 'lr': 3.7012111301917705e-06, 'num_dense_layers': 2, 'optimizer': 'SGD', 'start_neurons_units': 73, 'dense1_units': 11, 'sgd_momentum': 0.830059575752572}\n",
      "Working on:  classification rgb 3 2.5 none\n",
      "./modelling_results/rgb_classification_3_2.5_none_0  already processed\n",
      "Working on:  classification flow 9 5 conc\n",
      "./modelling_results/flow_classification_9_5_conc_0  under processing\n",
      "(32410, 2048) Counter({3.0: 4630, 2.0: 4630, 1.0: 4630, 0.0: 4630, -2.0: 4630, 4.0: 4630, -1.0: 4630})\n",
      "(7875, 2048) Counter({3.0: 1125, 0.0: 1125, 2.0: 1125, 1.0: 1125, -2.0: 1125, 4.0: 1125, -1.0: 1125})\n",
      "(4790, 2048) Counter({0.0: 958, 1.0: 958, 2.0: 958, 3.0: 958, 4.0: 958})\n"
     ]
    },
    {
     "name": "stderr",
     "output_type": "stream",
     "text": [
      "/home/sharifa/engagement_modeling/eng_env/lib/python3.8/site-packages/keras/optimizer_v2/optimizer_v2.py:355: UserWarning: The `lr` argument is deprecated, use `learning_rate` instead.\n",
      "  warnings.warn(\n",
      "/home/sharifa/engagement_modeling/eng_env/lib/python3.8/site-packages/keras/backend.py:4846: UserWarning: \"`categorical_crossentropy` received `from_logits=True`, but the `output` argument was produced by a sigmoid or softmax activation and thus does not represent logits. Was this intended?\"\n",
      "  warnings.warn(\n"
     ]
    },
    {
     "name": "stdout",
     "output_type": "stream",
     "text": [
      "Best found configuration: {'dropout1_rate': 0.47686295141161883, 'dropout2_rate': 0.8332055317487376, 'lr': 0.006844640480476898, 'num_dense_layers': 3, 'optimizer': 'Adam', 'start_neurons_units': 97, 'dense1_units': 84, 'dense2_units': 9}\n",
      "Working on:  classification flow 9 5 avg\n",
      "./modelling_results/flow_classification_9_5_avg_0  under processing\n",
      "(32410, 1024) Counter({2.0: 4630, 1.0: 4630, 4.0: 4630, -1.0: 4630, 0.0: 4630, 3.0: 4630, -2.0: 4630})\n",
      "(7875, 1024) Counter({2.0: 1125, 0.0: 1125, 3.0: 1125, 1.0: 1125, -1.0: 1125, -2.0: 1125, 4.0: 1125})\n",
      "(4790, 1024) Counter({0.0: 958, 1.0: 958, 2.0: 958, 3.0: 958, 4.0: 958})\n"
     ]
    },
    {
     "name": "stderr",
     "output_type": "stream",
     "text": [
      "/home/sharifa/engagement_modeling/eng_env/lib/python3.8/site-packages/keras/optimizer_v2/optimizer_v2.py:355: UserWarning: The `lr` argument is deprecated, use `learning_rate` instead.\n",
      "  warnings.warn(\n",
      "/home/sharifa/engagement_modeling/eng_env/lib/python3.8/site-packages/keras/backend.py:4846: UserWarning: \"`categorical_crossentropy` received `from_logits=True`, but the `output` argument was produced by a sigmoid or softmax activation and thus does not represent logits. Was this intended?\"\n",
      "  warnings.warn(\n"
     ]
    },
    {
     "name": "stdout",
     "output_type": "stream",
     "text": [
      "Best found configuration: {'dropout1_rate': 0.5194912764920204, 'dropout2_rate': 0.49518545410236287, 'lr': 3.3458694811302395e-06, 'num_dense_layers': 1, 'optimizer': 'Adam', 'start_neurons_units': 352}\n",
      "Working on:  classification flow 9 2.5 none\n",
      "./modelling_results/flow_classification_9_2.5_none_0  already processed\n",
      "Working on:  classification flow 5 5 conc\n",
      "./modelling_results/flow_classification_5_5_conc_0  under processing\n",
      "(24132, 2048) Counter({1.0: 6033, 0.0: 6033, 2.0: 6033, -1.0: 6033})\n",
      "(4960, 2048) Counter({2.0: 1240, 1.0: 1240, 0.0: 1240, -1.0: 1240})\n",
      "(3477, 2048) Counter({0.0: 1159, 1.0: 1159, 2.0: 1159})\n"
     ]
    },
    {
     "name": "stderr",
     "output_type": "stream",
     "text": [
      "/home/sharifa/engagement_modeling/eng_env/lib/python3.8/site-packages/keras/optimizer_v2/optimizer_v2.py:355: UserWarning: The `lr` argument is deprecated, use `learning_rate` instead.\n",
      "  warnings.warn(\n",
      "/home/sharifa/engagement_modeling/eng_env/lib/python3.8/site-packages/keras/backend.py:4846: UserWarning: \"`categorical_crossentropy` received `from_logits=True`, but the `output` argument was produced by a sigmoid or softmax activation and thus does not represent logits. Was this intended?\"\n",
      "  warnings.warn(\n"
     ]
    },
    {
     "name": "stdout",
     "output_type": "stream",
     "text": [
      "Best found configuration: {'dropout1_rate': 0.046388661750595764, 'dropout2_rate': 0.5000279695152743, 'lr': 0.00014383370774386308, 'num_dense_layers': 1, 'optimizer': 'SGD', 'start_neurons_units': 35, 'sgd_momentum': 0.8631996638463516}\n",
      "Working on:  classification flow 5 5 avg\n",
      "./modelling_results/flow_classification_5_5_avg_0  under processing\n",
      "(24132, 1024) Counter({2.0: 6033, 1.0: 6033, 0.0: 6033, -1.0: 6033})\n",
      "(4960, 1024) Counter({1.0: 1240, 0.0: 1240, 2.0: 1240, -1.0: 1240})\n",
      "(3477, 1024) Counter({0.0: 1159, 1.0: 1159, 2.0: 1159})\n"
     ]
    },
    {
     "name": "stderr",
     "output_type": "stream",
     "text": [
      "/home/sharifa/engagement_modeling/eng_env/lib/python3.8/site-packages/keras/optimizer_v2/optimizer_v2.py:355: UserWarning: The `lr` argument is deprecated, use `learning_rate` instead.\n",
      "  warnings.warn(\n",
      "/home/sharifa/engagement_modeling/eng_env/lib/python3.8/site-packages/keras/backend.py:4846: UserWarning: \"`categorical_crossentropy` received `from_logits=True`, but the `output` argument was produced by a sigmoid or softmax activation and thus does not represent logits. Was this intended?\"\n",
      "  warnings.warn(\n"
     ]
    },
    {
     "name": "stdout",
     "output_type": "stream",
     "text": [
      "Best found configuration: {'dropout1_rate': 0.23225516421612116, 'dropout2_rate': 0.7017900028850745, 'lr': 6.551188358145601e-05, 'num_dense_layers': 1, 'optimizer': 'Adam', 'start_neurons_units': 41}\n",
      "Working on:  classification flow 5 2.5 none\n",
      "./modelling_results/flow_classification_5_2.5_none_0  already processed\n",
      "Working on:  classification flow 3 5 conc\n",
      "./modelling_results/flow_classification_3_5_conc_0  under processing\n",
      "(22686, 2048) Counter({1.0: 7562, 0.0: 7562, -1.0: 7562})\n",
      "(4764, 2048) Counter({1.0: 1588, 0.0: 1588, -1.0: 1588})\n",
      "(5433, 2048) Counter({0.0: 1811, 1.0: 1811, -1.0: 1811})\n"
     ]
    },
    {
     "name": "stderr",
     "output_type": "stream",
     "text": [
      "/home/sharifa/engagement_modeling/eng_env/lib/python3.8/site-packages/keras/optimizer_v2/optimizer_v2.py:355: UserWarning: The `lr` argument is deprecated, use `learning_rate` instead.\n",
      "  warnings.warn(\n",
      "/home/sharifa/engagement_modeling/eng_env/lib/python3.8/site-packages/keras/backend.py:4846: UserWarning: \"`categorical_crossentropy` received `from_logits=True`, but the `output` argument was produced by a sigmoid or softmax activation and thus does not represent logits. Was this intended?\"\n",
      "  warnings.warn(\n"
     ]
    },
    {
     "name": "stdout",
     "output_type": "stream",
     "text": [
      "Best found configuration: {'dropout1_rate': 0.20001556249631403, 'dropout2_rate': 0.06787057048313912, 'lr': 1.691179193798888e-06, 'num_dense_layers': 2, 'optimizer': 'SGD', 'start_neurons_units': 44, 'dense1_units': 41, 'sgd_momentum': 0.08127193726177259}\n",
      "Working on:  classification flow 3 5 avg\n",
      "./modelling_results/flow_classification_3_5_avg_0  under processing\n",
      "(22686, 1024) Counter({1.0: 7562, 0.0: 7562, -1.0: 7562})\n",
      "(4764, 1024) Counter({1.0: 1588, 0.0: 1588, -1.0: 1588})\n",
      "(5433, 1024) Counter({0.0: 1811, 1.0: 1811, -1.0: 1811})\n"
     ]
    },
    {
     "name": "stderr",
     "output_type": "stream",
     "text": [
      "/home/sharifa/engagement_modeling/eng_env/lib/python3.8/site-packages/keras/optimizer_v2/optimizer_v2.py:355: UserWarning: The `lr` argument is deprecated, use `learning_rate` instead.\n",
      "  warnings.warn(\n",
      "/home/sharifa/engagement_modeling/eng_env/lib/python3.8/site-packages/keras/backend.py:4846: UserWarning: \"`categorical_crossentropy` received `from_logits=True`, but the `output` argument was produced by a sigmoid or softmax activation and thus does not represent logits. Was this intended?\"\n",
      "  warnings.warn(\n"
     ]
    },
    {
     "name": "stdout",
     "output_type": "stream",
     "text": [
      "Best found configuration: {'dropout1_rate': 0.003149794173320153, 'dropout2_rate': 0.4613573301043946, 'lr': 8.744864231215102e-06, 'num_dense_layers': 2, 'optimizer': 'SGD', 'start_neurons_units': 40, 'dense1_units': 81, 'sgd_momentum': 0.15956216992359024}\n",
      "Working on:  classification flow 3 2.5 none\n",
      "./modelling_results/flow_classification_3_2.5_none_0  already processed\n",
      "Working on:  classification twostream 9 5 conc\n",
      "./modelling_results/twostream_classification_9_5_conc_0  under processing\n",
      "(32410, 4096) Counter({2.0: 4630, 1.0: 4630, -0.0: 4630, 3.0: 4630, -1.0: 4630, 4.0: 4630, -2.0: 4630})\n",
      "(7875, 4096) Counter({2.0: 1125, 0.0: 1125, 3.0: 1125, -2.0: 1125, 1.0: 1125, -1.0: 1125, 4.0: 1125})\n",
      "(4790, 4096) Counter({0.0: 958, 1.0: 958, 2.0: 958, 3.0: 958, 4.0: 958})\n"
     ]
    },
    {
     "name": "stderr",
     "output_type": "stream",
     "text": [
      "/home/sharifa/engagement_modeling/eng_env/lib/python3.8/site-packages/keras/optimizer_v2/optimizer_v2.py:355: UserWarning: The `lr` argument is deprecated, use `learning_rate` instead.\n",
      "  warnings.warn(\n",
      "/home/sharifa/engagement_modeling/eng_env/lib/python3.8/site-packages/keras/backend.py:4846: UserWarning: \"`categorical_crossentropy` received `from_logits=True`, but the `output` argument was produced by a sigmoid or softmax activation and thus does not represent logits. Was this intended?\"\n",
      "  warnings.warn(\n"
     ]
    },
    {
     "name": "stdout",
     "output_type": "stream",
     "text": [
      "Best found configuration: {'dropout1_rate': 0.05345376813917903, 'dropout2_rate': 0.05052287028900981, 'lr': 0.00047998788992036567, 'num_dense_layers': 1, 'optimizer': 'SGD', 'start_neurons_units': 73, 'sgd_momentum': 0.1647759808326788}\n",
      "Working on:  classification twostream 9 5 avg\n",
      "./modelling_results/twostream_classification_9_5_avg_0  under processing\n",
      "(32410, 2048) Counter({2.0: 4630, -2.0: 4630, -1.0: 4630, 0.0: 4630, 3.0: 4630, 1.0: 4630, 4.0: 4630})\n",
      "(7875, 2048) Counter({-2.0: 1125, 4.0: 1125, 3.0: 1125, 2.0: 1125, 1.0: 1125, 0.0: 1125, -1.0: 1125})\n",
      "(4790, 2048) Counter({0.0: 958, 1.0: 958, 2.0: 958, 3.0: 958, 4.0: 958})\n"
     ]
    },
    {
     "name": "stderr",
     "output_type": "stream",
     "text": [
      "/home/sharifa/engagement_modeling/eng_env/lib/python3.8/site-packages/keras/optimizer_v2/optimizer_v2.py:355: UserWarning: The `lr` argument is deprecated, use `learning_rate` instead.\n",
      "  warnings.warn(\n",
      "/home/sharifa/engagement_modeling/eng_env/lib/python3.8/site-packages/keras/backend.py:4846: UserWarning: \"`categorical_crossentropy` received `from_logits=True`, but the `output` argument was produced by a sigmoid or softmax activation and thus does not represent logits. Was this intended?\"\n",
      "  warnings.warn(\n"
     ]
    },
    {
     "name": "stdout",
     "output_type": "stream",
     "text": [
      "Best found configuration: {'dropout1_rate': 0.2174673294488706, 'dropout2_rate': 0.038000508533128655, 'lr': 6.641812686557018e-06, 'num_dense_layers': 1, 'optimizer': 'Adam', 'start_neurons_units': 44}\n",
      "Working on:  classification twostream 9 2.5 none\n",
      "./modelling_results/twostream_classification_9_2.5_none_0  already processed\n",
      "Working on:  classification twostream 5 5 conc\n",
      "./modelling_results/twostream_classification_5_5_conc_0  under processing\n",
      "(24132, 4096) Counter({1.0: 6033, 0.0: 6033, 2.0: 6033, -1.0: 6033})\n",
      "(4960, 4096) Counter({1.0: 1240, 2.0: 1240, 0.0: 1240, -1.0: 1240})\n",
      "(3477, 4096) Counter({0.0: 1159, 1.0: 1159, 2.0: 1159})\n"
     ]
    },
    {
     "name": "stderr",
     "output_type": "stream",
     "text": [
      "/home/sharifa/engagement_modeling/eng_env/lib/python3.8/site-packages/keras/optimizer_v2/optimizer_v2.py:355: UserWarning: The `lr` argument is deprecated, use `learning_rate` instead.\n",
      "  warnings.warn(\n",
      "/home/sharifa/engagement_modeling/eng_env/lib/python3.8/site-packages/keras/backend.py:4846: UserWarning: \"`categorical_crossentropy` received `from_logits=True`, but the `output` argument was produced by a sigmoid or softmax activation and thus does not represent logits. Was this intended?\"\n",
      "  warnings.warn(\n"
     ]
    },
    {
     "name": "stdout",
     "output_type": "stream",
     "text": [
      "Best found configuration: {'dropout1_rate': 0.09265504205293783, 'dropout2_rate': 0.6896140800671323, 'lr': 1.0822136520777546e-06, 'num_dense_layers': 1, 'optimizer': 'Adam', 'start_neurons_units': 269}\n",
      "Working on:  classification twostream 5 5 avg\n",
      "./modelling_results/twostream_classification_5_5_avg_0  under processing\n",
      "(24132, 2048) Counter({2.0: 6033, 1.0: 6033, 0.0: 6033, -1.0: 6033})\n",
      "(4960, 2048) Counter({0.0: 1240, 1.0: 1240, 2.0: 1240, -1.0: 1240})\n",
      "(3477, 2048) Counter({0.0: 1159, 1.0: 1159, 2.0: 1159})\n"
     ]
    },
    {
     "name": "stderr",
     "output_type": "stream",
     "text": [
      "/home/sharifa/engagement_modeling/eng_env/lib/python3.8/site-packages/keras/optimizer_v2/optimizer_v2.py:355: UserWarning: The `lr` argument is deprecated, use `learning_rate` instead.\n",
      "  warnings.warn(\n",
      "/home/sharifa/engagement_modeling/eng_env/lib/python3.8/site-packages/keras/backend.py:4846: UserWarning: \"`categorical_crossentropy` received `from_logits=True`, but the `output` argument was produced by a sigmoid or softmax activation and thus does not represent logits. Was this intended?\"\n",
      "  warnings.warn(\n"
     ]
    },
    {
     "name": "stdout",
     "output_type": "stream",
     "text": [
      "Best found configuration: {'dropout1_rate': 0.4275866951186316, 'dropout2_rate': 0.4309821543906408, 'lr': 3.51785440223412e-06, 'num_dense_layers': 1, 'optimizer': 'Adam', 'start_neurons_units': 500}\n",
      "Working on:  classification twostream 5 2.5 none\n",
      "./modelling_results/twostream_classification_5_2.5_none_0  under processing\n",
      "(60690, 2048) Counter({1.0: 12138, 0.0: 12138, 2.0: 12138, -1.0: 12138, -2.0: 12138})\n",
      "(9960, 2048) Counter({1.0: 2490, 0.0: 2490, 2.0: 2490, -1.0: 2490})\n",
      "(9340, 2048) Counter({0.0: 2335, 1.0: 2335, 2.0: 2335, -1.0: 2335})\n"
     ]
    },
    {
     "name": "stderr",
     "output_type": "stream",
     "text": [
      "/home/sharifa/engagement_modeling/eng_env/lib/python3.8/site-packages/keras/optimizer_v2/optimizer_v2.py:355: UserWarning: The `lr` argument is deprecated, use `learning_rate` instead.\n",
      "  warnings.warn(\n",
      "/home/sharifa/engagement_modeling/eng_env/lib/python3.8/site-packages/keras/backend.py:4846: UserWarning: \"`categorical_crossentropy` received `from_logits=True`, but the `output` argument was produced by a sigmoid or softmax activation and thus does not represent logits. Was this intended?\"\n",
      "  warnings.warn(\n"
     ]
    },
    {
     "name": "stdout",
     "output_type": "stream",
     "text": [
      "Best found configuration: {'dropout1_rate': 0.6170259282005418, 'dropout2_rate': 0.633175393689814, 'lr': 7.205716418564483e-05, 'num_dense_layers': 2, 'optimizer': 'SGD', 'start_neurons_units': 297, 'dense1_units': 83, 'sgd_momentum': 0.171917417943088}\n",
      "Working on:  classification twostream 3 5 conc\n",
      "./modelling_results/twostream_classification_3_5_conc_0  under processing\n",
      "(22686, 4096) Counter({1.0: 7562, 0.0: 7562, -1.0: 7562})\n",
      "(4764, 4096) Counter({0.0: 1588, 1.0: 1588, -1.0: 1588})\n",
      "(5433, 4096) Counter({0.0: 1811, 1.0: 1811, -1.0: 1811})\n"
     ]
    },
    {
     "name": "stderr",
     "output_type": "stream",
     "text": [
      "/home/sharifa/engagement_modeling/eng_env/lib/python3.8/site-packages/keras/optimizer_v2/optimizer_v2.py:355: UserWarning: The `lr` argument is deprecated, use `learning_rate` instead.\n",
      "  warnings.warn(\n",
      "/home/sharifa/engagement_modeling/eng_env/lib/python3.8/site-packages/keras/backend.py:4846: UserWarning: \"`categorical_crossentropy` received `from_logits=True`, but the `output` argument was produced by a sigmoid or softmax activation and thus does not represent logits. Was this intended?\"\n",
      "  warnings.warn(\n"
     ]
    },
    {
     "name": "stdout",
     "output_type": "stream",
     "text": [
      "Best found configuration: {'dropout1_rate': 0.7000570107883668, 'dropout2_rate': 0.6711980315608913, 'lr': 8.189116094256225e-06, 'num_dense_layers': 1, 'optimizer': 'SGD', 'start_neurons_units': 47, 'sgd_momentum': 0.41896507763575214}\n",
      "Working on:  classification twostream 3 5 avg\n",
      "./modelling_results/twostream_classification_3_5_avg_0  under processing\n",
      "(22686, 2048) Counter({1.0: 7562, 0.0: 7562, -1.0: 7562})\n",
      "(4764, 2048) Counter({1.0: 1588, -0.0: 1588, -1.0: 1588})\n",
      "(5433, 2048) Counter({0.0: 1811, 1.0: 1811, -1.0: 1811})\n"
     ]
    },
    {
     "name": "stderr",
     "output_type": "stream",
     "text": [
      "/home/sharifa/engagement_modeling/eng_env/lib/python3.8/site-packages/keras/optimizer_v2/optimizer_v2.py:355: UserWarning: The `lr` argument is deprecated, use `learning_rate` instead.\n",
      "  warnings.warn(\n",
      "/home/sharifa/engagement_modeling/eng_env/lib/python3.8/site-packages/keras/backend.py:4846: UserWarning: \"`categorical_crossentropy` received `from_logits=True`, but the `output` argument was produced by a sigmoid or softmax activation and thus does not represent logits. Was this intended?\"\n",
      "  warnings.warn(\n"
     ]
    },
    {
     "name": "stdout",
     "output_type": "stream",
     "text": [
      "Best found configuration: {'dropout1_rate': 0.7424510778271874, 'dropout2_rate': 0.8191234982847261, 'lr': 7.876884093633973e-05, 'num_dense_layers': 3, 'optimizer': 'SGD', 'start_neurons_units': 125, 'dense1_units': 22, 'dense2_units': 28, 'sgd_momentum': 0.667157285300489}\n",
      "Working on:  classification twostream 3 2.5 none\n",
      "./modelling_results/twostream_classification_3_2.5_none_0  under processing\n",
      "(45588, 2048) Counter({1.0: 15196, 0.0: 15196, -1.0: 15196})\n",
      "(9528, 2048) Counter({1.0: 3176, -0.0: 3176, -1.0: 3176})\n",
      "(10884, 2048) Counter({0.0: 3628, 1.0: 3628, -1.0: 3628})\n"
     ]
    },
    {
     "name": "stderr",
     "output_type": "stream",
     "text": [
      "/home/sharifa/engagement_modeling/eng_env/lib/python3.8/site-packages/keras/optimizer_v2/optimizer_v2.py:355: UserWarning: The `lr` argument is deprecated, use `learning_rate` instead.\n",
      "  warnings.warn(\n",
      "/home/sharifa/engagement_modeling/eng_env/lib/python3.8/site-packages/keras/backend.py:4846: UserWarning: \"`categorical_crossentropy` received `from_logits=True`, but the `output` argument was produced by a sigmoid or softmax activation and thus does not represent logits. Was this intended?\"\n",
      "  warnings.warn(\n"
     ]
    },
    {
     "name": "stdout",
     "output_type": "stream",
     "text": [
      "Best found configuration: {'dropout1_rate': 0.799576254907627, 'dropout2_rate': 0.20614030527795477, 'lr': 1.37790034250251e-05, 'num_dense_layers': 2, 'optimizer': 'SGD', 'start_neurons_units': 161, 'dense1_units': 31, 'sgd_momentum': 0.11269389481070538}\n"
     ]
    }
   ],
   "source": [
    "prblemTypes = ['classification']\n",
    "featureTypes = ['rgb','flow', 'twostream']\n",
    "classes = [9,5,3]\n",
    "# divides = [2.5, 5]\n",
    "fusionTypes = ['conc','avg','none']\n",
    "\n",
    "permutations=[ prblemTypes, featureTypes, classes, fusionTypes]\n",
    "all_permutations = list(itertools.product(*permutations))\n",
    "print(len(all_permutations))\n",
    "for this_permutation in all_permutations:\n",
    "    (prblemType, featureType, eng_lvls, fusionType) = this_permutation\n",
    "    classType = 'round_avg_eng_level' if prblemType == 'classification' else 'avg_eng_level'\n",
    "    divide = 2.5 if fusionType == 'none' else 5\n",
    "    \n",
    "    print('Working on: ',prblemType, featureType, eng_lvls, divide, fusionType)\n",
    "    \n",
    "    label_folder = os.path.join(lables_path,'_'.join([classType,'eng_lvl',prblemType,str(eng_lvls),str(divide)]))\n",
    "\n",
    "    \n",
    "    if divide == 5:\n",
    "        extra_txt = '_'.join([fusionType,str(divide)]) \n",
    "        feature_folder = os.path.join(features_path,'_'.join(['i3d',featureType,'features',extra_txt]))\n",
    "    else:\n",
    "        feature_folder = os.path.join(features_path,'_'.join(['i3d',featureType,'features']))\n",
    "        \n",
    "    \n",
    "    #save results like: rgb_classification_9_2.5_none\n",
    "    result_folder = os.path.join(results_path,'_'.join([featureType,prblemType,str(eng_lvls),str(divide),fusionType]))\n",
    "\n",
    "    create_modlling(label_folder,feature_folder,result_folder, prblemType, featureType, eng_lvls)#, divide,fusionType)\n",
    "    "
   ]
  },
  {
   "cell_type": "markdown",
   "id": "21f0d843",
   "metadata": {},
   "source": [
    "### modeling handcrafted "
   ]
  },
  {
   "cell_type": "code",
   "execution_count": 6,
   "id": "881ad505",
   "metadata": {
    "scrolled": true
   },
   "outputs": [
    {
     "name": "stdout",
     "output_type": "stream",
     "text": [
      "9\n",
      "Working on:  classification handcrafted 9 2.5\n",
      "./modelling_results/handcrafted_classification_9_2.5_0  under processing\n",
      "(73512, 330) Counter({2.0: 9189, 0.0: 9189, 1.0: 9189, 4.0: 9189, 3.0: 9189, -1.0: 9189, -3.0: 9189, -2.0: 9189})\n",
      "(14994, 330) Counter({3.0: 2142, 2.0: 2142, 1.0: 2142, -1.0: 2142, 4.0: 2142, 0.0: 2142, -2.0: 2142})\n",
      "(11538, 330) Counter({0.0: 1923, 1.0: 1923, 2.0: 1923, 3.0: 1923, 4.0: 1923, -1.0: 1923})\n"
     ]
    },
    {
     "name": "stderr",
     "output_type": "stream",
     "text": [
      "2021-11-03 00:46:26.862765: I tensorflow/stream_executor/cuda/cuda_gpu_executor.cc:937] successful NUMA node read from SysFS had negative value (-1), but there must be at least one NUMA node, so returning NUMA node zero\n",
      "2021-11-03 00:46:26.867246: W tensorflow/stream_executor/platform/default/dso_loader.cc:64] Could not load dynamic library 'libcusolver.so.11'; dlerror: libcusolver.so.11: cannot open shared object file: No such file or directory; LD_LIBRARY_PATH: /home/sharifa/catkin_ws/devel/lib:/usr/local/cuda-11.0/lib64\n",
      "2021-11-03 00:46:26.867941: W tensorflow/stream_executor/platform/default/dso_loader.cc:64] Could not load dynamic library 'libcudnn.so.8'; dlerror: libcudnn.so.8: cannot open shared object file: No such file or directory; LD_LIBRARY_PATH: /home/sharifa/catkin_ws/devel/lib:/usr/local/cuda-11.0/lib64\n",
      "2021-11-03 00:46:26.867957: W tensorflow/core/common_runtime/gpu/gpu_device.cc:1835] Cannot dlopen some GPU libraries. Please make sure the missing libraries mentioned above are installed properly if you would like to use GPU. Follow the guide at https://www.tensorflow.org/install/gpu for how to download and setup the required libraries for your platform.\n",
      "Skipping registering GPU devices...\n",
      "2021-11-03 00:46:26.869799: I tensorflow/core/platform/cpu_feature_guard.cc:142] This TensorFlow binary is optimized with oneAPI Deep Neural Network Library (oneDNN) to use the following CPU instructions in performance-critical operations:  AVX2 FMA\n",
      "To enable them in other operations, rebuild TensorFlow with the appropriate compiler flags.\n",
      "/home/sharifa/engagement_modeling/eng_env/lib/python3.8/site-packages/keras/optimizer_v2/optimizer_v2.py:355: UserWarning: The `lr` argument is deprecated, use `learning_rate` instead.\n",
      "  warnings.warn(\n",
      "2021-11-03 00:46:27.330903: W tensorflow/core/framework/cpu_allocator_impl.cc:80] Allocation of 97035840 exceeds 10% of free system memory.\n",
      "2021-11-03 00:46:27.387710: W tensorflow/core/framework/cpu_allocator_impl.cc:80] Allocation of 97035840 exceeds 10% of free system memory.\n",
      "2021-11-03 00:46:27.448553: W tensorflow/core/framework/cpu_allocator_impl.cc:80] Allocation of 97035840 exceeds 10% of free system memory.\n",
      "2021-11-03 00:46:27.660224: W tensorflow/core/framework/cpu_allocator_impl.cc:80] Allocation of 97035840 exceeds 10% of free system memory.\n",
      "2021-11-03 00:46:27.710999: W tensorflow/core/framework/cpu_allocator_impl.cc:80] Allocation of 97035840 exceeds 10% of free system memory.\n",
      "2021-11-03 00:46:28.628349: I tensorflow/compiler/mlir/mlir_graph_optimization_pass.cc:185] None of the MLIR Optimization Passes are enabled (registered 2)\n",
      "/home/sharifa/engagement_modeling/eng_env/lib/python3.8/site-packages/keras/backend.py:4846: UserWarning: \"`categorical_crossentropy` received `from_logits=True`, but the `output` argument was produced by a sigmoid or softmax activation and thus does not represent logits. Was this intended?\"\n",
      "  warnings.warn(\n"
     ]
    },
    {
     "name": "stdout",
     "output_type": "stream",
     "text": [
      "Best found configuration: {'dropout1_rate': 0.7145244590917286, 'dropout2_rate': 0.039123790592088904, 'lr': 0.005924966666390326, 'num_dense_layers': 1, 'optimizer': 'Adam', 'start_neurons_units': 48}\n",
      "Working on:  classification handcrafted 9 5\n",
      "./modelling_results/handcrafted_classification_9_5_0  under processing\n",
      "(31836, 330) Counter({2.0: 4548, 0.0: 4548, 1.0: 4548, 3.0: 4548, -1.0: 4548, 4.0: 4548, -2.0: 4548})\n",
      "(7462, 330) Counter({3.0: 1066, 2.0: 1066, 0.0: 1066, 1.0: 1066, 4.0: 1066, -2.0: 1066, -1.0: 1066})\n",
      "(4735, 330) Counter({0.0: 947, 1.0: 947, 2.0: 947, 3.0: 947, 4.0: 947})\n"
     ]
    },
    {
     "name": "stderr",
     "output_type": "stream",
     "text": [
      "/home/sharifa/engagement_modeling/eng_env/lib/python3.8/site-packages/keras/optimizer_v2/optimizer_v2.py:355: UserWarning: The `lr` argument is deprecated, use `learning_rate` instead.\n",
      "  warnings.warn(\n",
      "/home/sharifa/engagement_modeling/eng_env/lib/python3.8/site-packages/keras/backend.py:4846: UserWarning: \"`categorical_crossentropy` received `from_logits=True`, but the `output` argument was produced by a sigmoid or softmax activation and thus does not represent logits. Was this intended?\"\n",
      "  warnings.warn(\n"
     ]
    },
    {
     "name": "stdout",
     "output_type": "stream",
     "text": [
      "Best found configuration: {'dropout1_rate': 0.75829021658743, 'dropout2_rate': 0.5120882019465703, 'lr': 0.08768105253686996, 'num_dense_layers': 2, 'optimizer': 'Adam', 'start_neurons_units': 60, 'dense1_units': 18}\n",
      "Working on:  classification handcrafted 9 5s\n",
      "./modelling_results/handcrafted_classification_9_5s_0  under processing\n",
      "(31544, 330) Counter({2.0: 3943, 1.0: 3943, 4.0: 3943, 3.0: 3943, 0.0: 3943, -1.0: 3943, -2.0: 3943, -3.0: 3943})\n",
      "(6440, 330) Counter({3.0: 920, 0.0: 920, 2.0: 920, 4.0: 920, 1.0: 920, -2.0: 920, -1.0: 920})\n",
      "(4938, 330) Counter({0.0: 823, 1.0: 823, 2.0: 823, 3.0: 823, 4.0: 823, -1.0: 823})\n"
     ]
    },
    {
     "name": "stderr",
     "output_type": "stream",
     "text": [
      "/home/sharifa/engagement_modeling/eng_env/lib/python3.8/site-packages/keras/optimizer_v2/optimizer_v2.py:355: UserWarning: The `lr` argument is deprecated, use `learning_rate` instead.\n",
      "  warnings.warn(\n",
      "/home/sharifa/engagement_modeling/eng_env/lib/python3.8/site-packages/keras/backend.py:4846: UserWarning: \"`categorical_crossentropy` received `from_logits=True`, but the `output` argument was produced by a sigmoid or softmax activation and thus does not represent logits. Was this intended?\"\n",
      "  warnings.warn(\n"
     ]
    },
    {
     "name": "stdout",
     "output_type": "stream",
     "text": [
      "Best found configuration: {'dropout1_rate': 0.7910511097058716, 'dropout2_rate': 0.46394625927058, 'lr': 0.0016107606616254236, 'num_dense_layers': 3, 'optimizer': 'Adam', 'start_neurons_units': 92, 'dense1_units': 26, 'dense2_units': 7}\n",
      "Working on:  classification handcrafted 5 2.5\n",
      "./modelling_results/handcrafted_classification_5_2.5_0  under processing\n",
      "(59415, 330) Counter({0.0: 11883, 1.0: 11883, 2.0: 11883, -1.0: 11883, -2.0: 11883})\n",
      "(9312, 330) Counter({0.0: 2328, 2.0: 2328, 1.0: 2328, -1.0: 2328})\n",
      "(9100, 330) Counter({0.0: 2275, 1.0: 2275, 2.0: 2275, -1.0: 2275})\n"
     ]
    },
    {
     "name": "stderr",
     "output_type": "stream",
     "text": [
      "/home/sharifa/engagement_modeling/eng_env/lib/python3.8/site-packages/keras/optimizer_v2/optimizer_v2.py:355: UserWarning: The `lr` argument is deprecated, use `learning_rate` instead.\n",
      "  warnings.warn(\n",
      "/home/sharifa/engagement_modeling/eng_env/lib/python3.8/site-packages/keras/backend.py:4846: UserWarning: \"`categorical_crossentropy` received `from_logits=True`, but the `output` argument was produced by a sigmoid or softmax activation and thus does not represent logits. Was this intended?\"\n",
      "  warnings.warn(\n"
     ]
    },
    {
     "name": "stdout",
     "output_type": "stream",
     "text": [
      "Best found configuration: {'dropout1_rate': 0.5221209060291996, 'dropout2_rate': 0.42718202177891396, 'lr': 0.0004264318508186597, 'num_dense_layers': 2, 'optimizer': 'Adam', 'start_neurons_units': 34, 'dense1_units': 105}\n",
      "Working on:  classification handcrafted 5 5\n",
      "./modelling_results/handcrafted_classification_5_5_0  under processing\n",
      "(23640, 330) Counter({1.0: 5910, 2.0: 5910, 0.0: 5910, -1.0: 5910})\n",
      "(4632, 330) Counter({2.0: 1158, 1.0: 1158, -1.0: 1158, 0.0: 1158})\n",
      "(3399, 330) Counter({0.0: 1133, 1.0: 1133, 2.0: 1133})\n"
     ]
    },
    {
     "name": "stderr",
     "output_type": "stream",
     "text": [
      "/home/sharifa/engagement_modeling/eng_env/lib/python3.8/site-packages/keras/optimizer_v2/optimizer_v2.py:355: UserWarning: The `lr` argument is deprecated, use `learning_rate` instead.\n",
      "  warnings.warn(\n",
      "/home/sharifa/engagement_modeling/eng_env/lib/python3.8/site-packages/keras/backend.py:4846: UserWarning: \"`categorical_crossentropy` received `from_logits=True`, but the `output` argument was produced by a sigmoid or softmax activation and thus does not represent logits. Was this intended?\"\n",
      "  warnings.warn(\n"
     ]
    },
    {
     "name": "stdout",
     "output_type": "stream",
     "text": [
      "Best found configuration: {'dropout1_rate': 0.12617344964856253, 'dropout2_rate': 0.21771705630022445, 'lr': 0.000561190892559448, 'num_dense_layers': 2, 'optimizer': 'Adam', 'start_neurons_units': 174, 'dense1_units': 11}\n",
      "Working on:  classification handcrafted 5 5s\n",
      "./modelling_results/handcrafted_classification_5_5s_0  under processing\n",
      "(25430, 330) Counter({1.0: 5086, 2.0: 5086, 0.0: 5086, -2.0: 5086, -1.0: 5086})\n",
      "(3992, 330) Counter({1.0: 998, 2.0: 998, 0.0: 998, -1.0: 998})\n",
      "(3896, 330) Counter({0.0: 974, 1.0: 974, 2.0: 974, -1.0: 974})\n"
     ]
    },
    {
     "name": "stderr",
     "output_type": "stream",
     "text": [
      "/home/sharifa/engagement_modeling/eng_env/lib/python3.8/site-packages/keras/optimizer_v2/optimizer_v2.py:355: UserWarning: The `lr` argument is deprecated, use `learning_rate` instead.\n",
      "  warnings.warn(\n",
      "/home/sharifa/engagement_modeling/eng_env/lib/python3.8/site-packages/keras/backend.py:4846: UserWarning: \"`categorical_crossentropy` received `from_logits=True`, but the `output` argument was produced by a sigmoid or softmax activation and thus does not represent logits. Was this intended?\"\n",
      "  warnings.warn(\n"
     ]
    },
    {
     "name": "stdout",
     "output_type": "stream",
     "text": [
      "WARNING:tensorflow:5 out of the last 36 calls to <function Model.make_train_function.<locals>.train_function at 0x7fd100383820> triggered tf.function retracing. Tracing is expensive and the excessive number of tracings could be due to (1) creating @tf.function repeatedly in a loop, (2) passing tensors with different shapes, (3) passing Python objects instead of tensors. For (1), please define your @tf.function outside of the loop. For (2), @tf.function has experimental_relax_shapes=True option that relaxes argument shapes that can avoid unnecessary retracing. For (3), please refer to https://www.tensorflow.org/guide/function#controlling_retracing and https://www.tensorflow.org/api_docs/python/tf/function for  more details.\n"
     ]
    },
    {
     "name": "stderr",
     "output_type": "stream",
     "text": [
      "WARNING:tensorflow:5 out of the last 36 calls to <function Model.make_train_function.<locals>.train_function at 0x7fd100383820> triggered tf.function retracing. Tracing is expensive and the excessive number of tracings could be due to (1) creating @tf.function repeatedly in a loop, (2) passing tensors with different shapes, (3) passing Python objects instead of tensors. For (1), please define your @tf.function outside of the loop. For (2), @tf.function has experimental_relax_shapes=True option that relaxes argument shapes that can avoid unnecessary retracing. For (3), please refer to https://www.tensorflow.org/guide/function#controlling_retracing and https://www.tensorflow.org/api_docs/python/tf/function for  more details.\n"
     ]
    },
    {
     "name": "stdout",
     "output_type": "stream",
     "text": [
      "WARNING:tensorflow:6 out of the last 37 calls to <function Model.make_train_function.<locals>.train_function at 0x7fd0bc6f5040> triggered tf.function retracing. Tracing is expensive and the excessive number of tracings could be due to (1) creating @tf.function repeatedly in a loop, (2) passing tensors with different shapes, (3) passing Python objects instead of tensors. For (1), please define your @tf.function outside of the loop. For (2), @tf.function has experimental_relax_shapes=True option that relaxes argument shapes that can avoid unnecessary retracing. For (3), please refer to https://www.tensorflow.org/guide/function#controlling_retracing and https://www.tensorflow.org/api_docs/python/tf/function for  more details.\n"
     ]
    },
    {
     "name": "stderr",
     "output_type": "stream",
     "text": [
      "WARNING:tensorflow:6 out of the last 37 calls to <function Model.make_train_function.<locals>.train_function at 0x7fd0bc6f5040> triggered tf.function retracing. Tracing is expensive and the excessive number of tracings could be due to (1) creating @tf.function repeatedly in a loop, (2) passing tensors with different shapes, (3) passing Python objects instead of tensors. For (1), please define your @tf.function outside of the loop. For (2), @tf.function has experimental_relax_shapes=True option that relaxes argument shapes that can avoid unnecessary retracing. For (3), please refer to https://www.tensorflow.org/guide/function#controlling_retracing and https://www.tensorflow.org/api_docs/python/tf/function for  more details.\n"
     ]
    },
    {
     "name": "stdout",
     "output_type": "stream",
     "text": [
      "Best found configuration: {'dropout1_rate': 0.5406315899859737, 'dropout2_rate': 0.055752145389941124, 'lr': 0.027604059967016308, 'num_dense_layers': 2, 'optimizer': 'Adam', 'start_neurons_units': 373, 'dense1_units': 60}\n",
      "Working on:  classification handcrafted 3 2.5\n",
      "./modelling_results/handcrafted_classification_3_2.5_0  under processing\n",
      "(44664, 330) Counter({1.0: 14888, 0.0: 14888, -1.0: 14888})\n",
      "(8994, 330) Counter({-1.0: 2998, 1.0: 2998, 0.0: 2998})\n",
      "(10704, 330) Counter({0.0: 3568, 1.0: 3568, -1.0: 3568})\n"
     ]
    },
    {
     "name": "stderr",
     "output_type": "stream",
     "text": [
      "/home/sharifa/engagement_modeling/eng_env/lib/python3.8/site-packages/keras/optimizer_v2/optimizer_v2.py:355: UserWarning: The `lr` argument is deprecated, use `learning_rate` instead.\n",
      "  warnings.warn(\n",
      "/home/sharifa/engagement_modeling/eng_env/lib/python3.8/site-packages/keras/backend.py:4846: UserWarning: \"`categorical_crossentropy` received `from_logits=True`, but the `output` argument was produced by a sigmoid or softmax activation and thus does not represent logits. Was this intended?\"\n",
      "  warnings.warn(\n"
     ]
    },
    {
     "name": "stdout",
     "output_type": "stream",
     "text": [
      "Best found configuration: {'dropout1_rate': 0.5057042097525165, 'dropout2_rate': 0.8051212700878719, 'lr': 8.928816067621497e-05, 'num_dense_layers': 2, 'optimizer': 'SGD', 'start_neurons_units': 425, 'dense1_units': 26, 'sgd_momentum': 0.8958535927391047}\n",
      "Working on:  classification handcrafted 3 5\n",
      "./modelling_results/handcrafted_classification_3_5_0  under processing\n",
      "(22254, 330) Counter({1.0: 7418, 0.0: 7418, -1.0: 7418})\n",
      "(4497, 330) Counter({0.0: 1499, 1.0: 1499, -1.0: 1499})\n",
      "(5355, 330) Counter({0.0: 1785, 1.0: 1785, -1.0: 1785})\n"
     ]
    },
    {
     "name": "stderr",
     "output_type": "stream",
     "text": [
      "/home/sharifa/engagement_modeling/eng_env/lib/python3.8/site-packages/keras/optimizer_v2/optimizer_v2.py:355: UserWarning: The `lr` argument is deprecated, use `learning_rate` instead.\n",
      "  warnings.warn(\n",
      "/home/sharifa/engagement_modeling/eng_env/lib/python3.8/site-packages/keras/backend.py:4846: UserWarning: \"`categorical_crossentropy` received `from_logits=True`, but the `output` argument was produced by a sigmoid or softmax activation and thus does not represent logits. Was this intended?\"\n",
      "  warnings.warn(\n"
     ]
    },
    {
     "name": "stdout",
     "output_type": "stream",
     "text": [
      "Best found configuration: {'dropout1_rate': 0.00921622759991524, 'dropout2_rate': 0.6483605999222419, 'lr': 0.05299509987301488, 'num_dense_layers': 1, 'optimizer': 'SGD', 'start_neurons_units': 260, 'sgd_momentum': 0.16927825739526883}\n",
      "Working on:  classification handcrafted 3 5s\n",
      "./modelling_results/handcrafted_classification_3_5s_0  under processing\n",
      "(19122, 330) Counter({1.0: 6374, 0.0: 6374, -1.0: 6374})\n",
      "(3849, 330) Counter({1.0: 1283, 0.0: 1283, -1.0: 1283})\n",
      "(4578, 330) Counter({0.0: 1526, 1.0: 1526, -1.0: 1526})\n"
     ]
    },
    {
     "name": "stderr",
     "output_type": "stream",
     "text": [
      "/home/sharifa/engagement_modeling/eng_env/lib/python3.8/site-packages/keras/optimizer_v2/optimizer_v2.py:355: UserWarning: The `lr` argument is deprecated, use `learning_rate` instead.\n",
      "  warnings.warn(\n",
      "/home/sharifa/engagement_modeling/eng_env/lib/python3.8/site-packages/keras/backend.py:4846: UserWarning: \"`categorical_crossentropy` received `from_logits=True`, but the `output` argument was produced by a sigmoid or softmax activation and thus does not represent logits. Was this intended?\"\n",
      "  warnings.warn(\n"
     ]
    },
    {
     "name": "stdout",
     "output_type": "stream",
     "text": [
      "Best found configuration: {'dropout1_rate': 0.554223447257964, 'dropout2_rate': 0.827890666633727, 'lr': 0.00017767890302388274, 'num_dense_layers': 1, 'optimizer': 'SGD', 'start_neurons_units': 187, 'sgd_momentum': 0.1391350005625941}\n"
     ]
    }
   ],
   "source": [
    "prblemTypes = ['classification']\n",
    "featureTypes = ['handcrafted']\n",
    "classes = [9,5,3]\n",
    "# divides = [2.5, 5]\n",
    "fusionTypes = ['2.5','5','5s']\n",
    "\n",
    "permutations=[ prblemTypes, featureTypes, classes, fusionTypes]\n",
    "all_permutations = list(itertools.product(*permutations))\n",
    "print(len(all_permutations))\n",
    "for this_permutation in all_permutations:\n",
    "    (prblemType, featureType, eng_lvls, fusionType) = this_permutation\n",
    "    classType = 'round_avg_eng_level' if prblemType == 'classification' else 'avg_eng_level'\n",
    "    \n",
    "    print('Working on: ',prblemType, featureType, eng_lvls, fusionType)\n",
    "    \n",
    "    label_folder = os.path.join(lables_path,'_'.join([classType,'eng_lvl',prblemType,str(eng_lvls),str(fusionType)]))\n",
    "    feature_folder = os.path.join(features_path,'_'.join([featureType,'features',fusionType]))\n",
    "        \n",
    "    #save results like: rgb_classification_9_2.5_none\n",
    "    result_folder = os.path.join(results_path,'_'.join([featureType,prblemType,str(eng_lvls),fusionType]))\n",
    "\n",
    "    create_modlling(label_folder,feature_folder,result_folder, prblemType, featureType, eng_lvls)#, divide,fusionType)\n",
    "    "
   ]
  },
  {
   "cell_type": "code",
   "execution_count": null,
   "id": "8a3d24a6",
   "metadata": {},
   "outputs": [],
   "source": []
  }
 ],
 "metadata": {
  "kernelspec": {
   "display_name": "Python 3 (ipykernel)",
   "language": "python",
   "name": "python3"
  },
  "language_info": {
   "codemirror_mode": {
    "name": "ipython",
    "version": 3
   },
   "file_extension": ".py",
   "mimetype": "text/x-python",
   "name": "python",
   "nbconvert_exporter": "python",
   "pygments_lexer": "ipython3",
   "version": "3.8.5"
  }
 },
 "nbformat": 4,
 "nbformat_minor": 5
}
