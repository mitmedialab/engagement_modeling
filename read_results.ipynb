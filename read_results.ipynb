{
 "cells": [
  {
   "cell_type": "markdown",
   "id": "8ac13b78",
   "metadata": {},
   "source": [
    "# Reading & analyzing results\n",
    "now all the results of all premutions are sored as pkl \n",
    "\n",
    "we need to get the best results of all "
   ]
  },
  {
   "cell_type": "markdown",
   "id": "b8f546f7",
   "metadata": {},
   "source": [
    "### import & vars"
   ]
  },
  {
   "cell_type": "code",
   "execution_count": 1,
   "id": "94362504",
   "metadata": {},
   "outputs": [],
   "source": [
    "import sys\n",
    "import numpy as np\n",
    "import os\n",
    "import pandas as pd\n",
    "import itertools\n",
    "import pickle\n",
    "\n",
    "from collections import Counter\n",
    "from sklearn.utils import shuffle\n",
    "from imblearn.over_sampling import RandomOverSampler as resample\n",
    "\n",
    "lables_path = './labels/'\n",
    "features_path = './features/'\n",
    "results_path = './modelling_results/'"
   ]
  },
  {
   "cell_type": "markdown",
   "id": "52cb73d4",
   "metadata": {},
   "source": [
    "### help functions"
   ]
  },
  {
   "cell_type": "code",
   "execution_count": null,
   "id": "f08c31d8",
   "metadata": {},
   "outputs": [],
   "source": [
    "\n"
   ]
  },
  {
   "cell_type": "markdown",
   "id": "0c32a759",
   "metadata": {},
   "source": [
    "### let's analyze "
   ]
  },
  {
   "cell_type": "markdown",
   "id": "4ce866ba",
   "metadata": {},
   "source": [
    "### step 1 -- combine in one guint cvs"
   ]
  },
  {
   "cell_type": "code",
   "execution_count": 2,
   "id": "f792d374",
   "metadata": {
    "scrolled": true
   },
   "outputs": [
    {
     "name": "stdout",
     "output_type": "stream",
     "text": [
      "flow_classification_3_2.5_none_0\n",
      "flow_classification_5_2.5_none_0\n",
      "flow_classification_9_2.5_none_0\n",
      "rgb_classification_3_2.5_none_0\n",
      "rgb_classification_5_2.5_none_0\n",
      "rgb_classification_9_2.5_none_0\n",
      "rgb_classification_9_5_conc_0\n",
      "ERROR: file ./modelling_results/rgb_classification_9_5_conc_0/results.pkl does not exsist\n",
      "to_repeat\n"
     ]
    },
    {
     "ename": "ValueError",
     "evalue": "not enough values to unpack (expected 6, got 2)",
     "output_type": "error",
     "traceback": [
      "\u001b[0;31m---------------------------------------------------------------------------\u001b[0m",
      "\u001b[0;31mValueError\u001b[0m                                Traceback (most recent call last)",
      "\u001b[0;32m/tmp/ipykernel_11917/3004017039.py\u001b[0m in \u001b[0;36m<module>\u001b[0;34m\u001b[0m\n\u001b[1;32m      9\u001b[0m \u001b[0;32mfor\u001b[0m \u001b[0mthis_folder\u001b[0m \u001b[0;32min\u001b[0m \u001b[0monlyfolders\u001b[0m\u001b[0;34m:\u001b[0m\u001b[0;34m\u001b[0m\u001b[0;34m\u001b[0m\u001b[0m\n\u001b[1;32m     10\u001b[0m     \u001b[0mprint\u001b[0m\u001b[0;34m(\u001b[0m\u001b[0mthis_folder\u001b[0m\u001b[0;34m)\u001b[0m\u001b[0;34m\u001b[0m\u001b[0;34m\u001b[0m\u001b[0m\n\u001b[0;32m---> 11\u001b[0;31m     \u001b[0mfeatureType\u001b[0m\u001b[0;34m,\u001b[0m\u001b[0mprblemType\u001b[0m\u001b[0;34m,\u001b[0m\u001b[0meng_lvls\u001b[0m\u001b[0;34m,\u001b[0m\u001b[0mdivide\u001b[0m\u001b[0;34m,\u001b[0m\u001b[0mfusionType\u001b[0m\u001b[0;34m,\u001b[0m\u001b[0mrepeats\u001b[0m \u001b[0;34m=\u001b[0m \u001b[0mthis_folder\u001b[0m\u001b[0;34m.\u001b[0m\u001b[0msplit\u001b[0m\u001b[0;34m(\u001b[0m\u001b[0;34m'_'\u001b[0m\u001b[0;34m)\u001b[0m\u001b[0;34m\u001b[0m\u001b[0;34m\u001b[0m\u001b[0m\n\u001b[0m\u001b[1;32m     12\u001b[0m     \u001b[0mshared_directory\u001b[0m \u001b[0;34m=\u001b[0m \u001b[0mos\u001b[0m\u001b[0;34m.\u001b[0m\u001b[0mpath\u001b[0m\u001b[0;34m.\u001b[0m\u001b[0mjoin\u001b[0m\u001b[0;34m(\u001b[0m\u001b[0mresults_path\u001b[0m\u001b[0;34m,\u001b[0m\u001b[0mthis_folder\u001b[0m\u001b[0;34m)\u001b[0m\u001b[0;34m\u001b[0m\u001b[0;34m\u001b[0m\u001b[0m\n\u001b[1;32m     13\u001b[0m \u001b[0;34m\u001b[0m\u001b[0m\n",
      "\u001b[0;31mValueError\u001b[0m: not enough values to unpack (expected 6, got 2)"
     ]
    }
   ],
   "source": [
    "repeats = 0\n",
    "all_results = pd.DataFrame([])\n",
    "\n",
    "onlyfolders = [f for f in os.listdir(results_path) if not\n",
    "                       os.path.isfile(os.path.join(results_path, f))\n",
    "                       and not f.startswith('.')]\n",
    "onlyfolders.sort()\n",
    "    \n",
    "for this_folder in onlyfolders:\n",
    "    print(this_folder)\n",
    "    featureType,prblemType,eng_lvls,divide,fusionType,repeats = this_folder.split('_')\n",
    "    shared_directory = os.path.join(results_path,this_folder)\n",
    "    \n",
    "    results_file = os.path.join(shared_directory,'results.pkl')\n",
    "    if not os.path.exists(results_file):\n",
    "        print('ERROR: file {} does not exsist'.format(results_file))\n",
    "        continue\n",
    "        \n",
    "    try:\n",
    "        res = pickle.load(open(results_file, \"rb\" ))\n",
    "    except:\n",
    "        continue\n",
    "    # id2config = res.get_id2config_mapping()\n",
    "    # incumbent = res.get_incumbent_id()\n",
    "\n",
    "    for key in res.data.keys():\n",
    "        this_data = res[key]\n",
    "        for bugKey in this_data.results.keys():\n",
    "            this_results = pd.DataFrame.from_dict(this_data.results[bugKey]['info']).T\n",
    "            this_results['budget'] = str(bugKey)\n",
    "            this_results['confID'] = str(key)\n",
    "            this_results['featureType'] = featureType\n",
    "            this_results['prblemType'] = prblemType\n",
    "            this_results['eng_lvls'] = eng_lvls\n",
    "            this_results['divide'] = divide\n",
    "            this_results['fusionType'] = fusionType\n",
    "            this_results['repeats'] = repeats\n",
    "            \n",
    "            this_results.set_index(['featureType', 'prblemType', 'confID',\\\n",
    "                                    'budget', 'eng_lvls', 'divide','fusionType','repeats'],\\\n",
    "                                   append=True, inplace=True)\n",
    "            # cols = this_results.columns.tolist()\n",
    "\n",
    "            all_results = this_results if len(all_results) ==0 else all_results.append(this_results)\n",
    "\n",
    "\n",
    "print(all_results.describe())\n",
    "all_results.to_csv(os.path.join(results_path,'all_results.csv'))"
   ]
  },
  {
   "cell_type": "code",
   "execution_count": null,
   "id": "9b680116",
   "metadata": {
    "scrolled": true
   },
   "outputs": [],
   "source": [
    "all_results.head(-1)"
   ]
  },
  {
   "cell_type": "code",
   "execution_count": null,
   "id": "56622524",
   "metadata": {
    "scrolled": true
   },
   "outputs": [],
   "source": [
    "repeats = 0\n",
    "best_results = pd.DataFrame([])\n",
    "\n",
    "onlyfolders = [f for f in os.listdir(results_path) if not\n",
    "                       os.path.isfile(os.path.join(results_path, f))\n",
    "                       and not f.startswith('.')]\n",
    "onlyfolders.sort()\n",
    "    \n",
    "for this_folder in onlyfolders:\n",
    "    print(this_folder)\n",
    "    featureType,prblemType,eng_lvls,divide,fusionType,repeats = this_folder.split('_')\n",
    "    shared_directory = os.path.join(results_path,this_folder)\n",
    "    \n",
    "    results_file = os.path.join(shared_directory,'results.pkl')\n",
    "    if not os.path.exists(results_file):\n",
    "        print('ERROR: file {} does not exsist'.format(results_file))\n",
    "        continue\n",
    "        \n",
    "    try:\n",
    "        res = pickle.load(open(results_file, \"rb\" ))\n",
    "    except:\n",
    "        continue\n",
    "    id2config = res.get_id2config_mapping()\n",
    "    incumbent = res.get_incumbent_id()\n",
    "    \n",
    "\n",
    "    this_data = res[incumbent]\n",
    "    new_dic = dict(zip([key for key in this_data.results.keys()],\\\n",
    "                       [this_data.results[k]['loss'] for k in this_data.results.keys()]))\n",
    " \n",
    "    bugKey = min(new_dic, key=new_dic.get)\n",
    "    \n",
    "    this_results = pd.DataFrame.from_dict(this_data.results[bugKey]['info']).T\n",
    "    this_results['budget'] = str(bugKey)\n",
    "    this_results['confID'] = str(incumbent)\n",
    "    this_results['featureType'] = featureType\n",
    "    this_results['prblemType'] = prblemType\n",
    "    this_results['eng_lvls'] = eng_lvls\n",
    "    this_results['divide'] = divide\n",
    "    this_results['fusionType'] = fusionType\n",
    "    this_results['repeats'] = repeats\n",
    "\n",
    "    this_results.set_index(['featureType', 'prblemType', 'confID',\\\n",
    "                            'budget', 'eng_lvls', 'divide','fusionType','repeats'],\\\n",
    "                           append=True, inplace=True)\n",
    "    # cols = this_results.columns.tolist()\n",
    "\n",
    "    best_results = best_results if len(this_results) ==0 else best_results.append(this_results)\n",
    "\n",
    "\n",
    "print(best_results)\n",
    "best_results.to_csv(os.path.join(results_path,'best_results.csv'))\n",
    "    \n",
    "\n"
   ]
  },
  {
   "cell_type": "code",
   "execution_count": 2,
   "id": "70bfd83d",
   "metadata": {},
   "outputs": [
    {
     "name": "stdout",
     "output_type": "stream",
     "text": [
      "rgb_classification_9_5_conc_0\n",
      "                                                                                            thisloss  \\\n",
      "            featureType prblemType     confID    budget eng_lvls divide fusionType repeats             \n",
      "train_score rgb         classification (0, 0, 3) 27.0   9        5      conc       0        1.131450   \n",
      "val_score   rgb         classification (0, 0, 3) 27.0   9        5      conc       0        1.964576   \n",
      "test_score  rgb         classification (0, 0, 3) 27.0   9        5      conc       0        1.751540   \n",
      "\n",
      "                                                                                                tp  \\\n",
      "            featureType prblemType     confID    budget eng_lvls divide fusionType repeats           \n",
      "train_score rgb         classification (0, 0, 3) 27.0   9        5      conc       0        7842.0   \n",
      "val_score   rgb         classification (0, 0, 3) 27.0   9        5      conc       0         158.0   \n",
      "test_score  rgb         classification (0, 0, 3) 27.0   9        5      conc       0          19.0   \n",
      "\n",
      "                                                                                                fp  \\\n",
      "            featureType prblemType     confID    budget eng_lvls divide fusionType repeats           \n",
      "train_score rgb         classification (0, 0, 3) 27.0   9        5      conc       0        1877.0   \n",
      "val_score   rgb         classification (0, 0, 3) 27.0   9        5      conc       0          86.0   \n",
      "test_score  rgb         classification (0, 0, 3) 27.0   9        5      conc       0          37.0   \n",
      "\n",
      "                                                                                                  tn  \\\n",
      "            featureType prblemType     confID    budget eng_lvls divide fusionType repeats             \n",
      "train_score rgb         classification (0, 0, 3) 27.0   9        5      conc       0        257403.0   \n",
      "val_score   rgb         classification (0, 0, 3) 27.0   9        5      conc       0         62914.0   \n",
      "test_score  rgb         classification (0, 0, 3) 27.0   9        5      conc       0         38283.0   \n",
      "\n",
      "                                                                                                 fn  \\\n",
      "            featureType prblemType     confID    budget eng_lvls divide fusionType repeats            \n",
      "train_score rgb         classification (0, 0, 3) 27.0   9        5      conc       0        24568.0   \n",
      "val_score   rgb         classification (0, 0, 3) 27.0   9        5      conc       0         7717.0   \n",
      "test_score  rgb         classification (0, 0, 3) 27.0   9        5      conc       0         4771.0   \n",
      "\n",
      "                                                                                                 acc  \\\n",
      "            featureType prblemType     confID    budget eng_lvls divide fusionType repeats             \n",
      "train_score rgb         classification (0, 0, 3) 27.0   9        5      conc       0        0.909338   \n",
      "val_score   rgb         classification (0, 0, 3) 27.0   9        5      conc       0        0.889904   \n",
      "test_score  rgb         classification (0, 0, 3) 27.0   9        5      conc       0        0.888470   \n",
      "\n",
      "                                                                                                prec  \\\n",
      "            featureType prblemType     confID    budget eng_lvls divide fusionType repeats             \n",
      "train_score rgb         classification (0, 0, 3) 27.0   9        5      conc       0        0.806873   \n",
      "val_score   rgb         classification (0, 0, 3) 27.0   9        5      conc       0        0.647541   \n",
      "test_score  rgb         classification (0, 0, 3) 27.0   9        5      conc       0        0.339286   \n",
      "\n",
      "                                                                                                 rec  \\\n",
      "            featureType prblemType     confID    budget eng_lvls divide fusionType repeats             \n",
      "train_score rgb         classification (0, 0, 3) 27.0   9        5      conc       0        0.241962   \n",
      "val_score   rgb         classification (0, 0, 3) 27.0   9        5      conc       0        0.020063   \n",
      "test_score  rgb         classification (0, 0, 3) 27.0   9        5      conc       0        0.003967   \n",
      "\n",
      "                                                                                                 auc  \\\n",
      "            featureType prblemType     confID    budget eng_lvls divide fusionType repeats             \n",
      "train_score rgb         classification (0, 0, 3) 27.0   9        5      conc       0        0.935759   \n",
      "val_score   rgb         classification (0, 0, 3) 27.0   9        5      conc       0        0.712427   \n",
      "test_score  rgb         classification (0, 0, 3) 27.0   9        5      conc       0        0.782407   \n",
      "\n",
      "                                                                                                  BC  \\\n",
      "            featureType prblemType     confID    budget eng_lvls divide fusionType repeats             \n",
      "train_score rgb         classification (0, 0, 3) 27.0   9        5      conc       0        0.675425   \n",
      "val_score   rgb         classification (0, 0, 3) 27.0   9        5      conc       0        0.750020   \n",
      "test_score  rgb         classification (0, 0, 3) 27.0   9        5      conc       0        0.745877   \n",
      "\n",
      "                                                                                                 MCC  \n",
      "            featureType prblemType     confID    budget eng_lvls divide fusionType repeats            \n",
      "train_score rgb         classification (0, 0, 3) 27.0   9        5      conc       0        0.547332  \n",
      "val_score   rgb         classification (0, 0, 3) 27.0   9        5      conc       0        0.154643  \n",
      "test_score  rgb         classification (0, 0, 3) 27.0   9        5      conc       0        0.037793  \n"
     ]
    }
   ],
   "source": [
    "this_folder = 'rgb_classification_9_5_conc_0'\n",
    "print(this_folder)\n",
    "featureType,prblemType,eng_lvls,divide,fusionType,repeats = this_folder.split('_')\n",
    "shared_directory = os.path.join(results_path,this_folder)\n",
    "\n",
    "results_file = os.path.join(shared_directory,'results.pkl')\n",
    "if not os.path.exists(results_file):\n",
    "    print('ERROR: file {} does not exsist'.format(results_file))\n",
    "    pass\n",
    "\n",
    "res = pickle.load(open(results_file, \"rb\" ))\n",
    "\n",
    "id2config = res.get_id2config_mapping()\n",
    "incumbent = res.get_incumbent_id()\n",
    "\n",
    "\n",
    "this_data = res[incumbent]\n",
    "new_dic = dict(zip([key for key in this_data.results.keys()],\\\n",
    "                   [this_data.results[k]['loss'] for k in this_data.results.keys()]))\n",
    "\n",
    "bugKey = min(new_dic, key=new_dic.get)\n",
    "\n",
    "this_results = pd.DataFrame.from_dict(this_data.results[bugKey]['info']).T\n",
    "this_results['budget'] = str(bugKey)\n",
    "this_results['confID'] = str(incumbent)\n",
    "this_results['featureType'] = featureType\n",
    "this_results['prblemType'] = prblemType\n",
    "this_results['eng_lvls'] = eng_lvls\n",
    "this_results['divide'] = divide\n",
    "this_results['fusionType'] = fusionType\n",
    "this_results['repeats'] = repeats\n",
    "\n",
    "this_results.set_index(['featureType', 'prblemType', 'confID',\\\n",
    "                        'budget', 'eng_lvls', 'divide','fusionType','repeats'],\\\n",
    "                       append=True, inplace=True)\n",
    "# cols = this_results.columns.tolist()\\\n",
    "\n",
    "\n",
    "print(this_results)\n",
    "    \n",
    "\n"
   ]
  },
  {
   "cell_type": "code",
   "execution_count": null,
   "id": "f8145916",
   "metadata": {},
   "outputs": [],
   "source": []
  }
 ],
 "metadata": {
  "kernelspec": {
   "display_name": "Python 3 (ipykernel)",
   "language": "python",
   "name": "python3"
  },
  "language_info": {
   "codemirror_mode": {
    "name": "ipython",
    "version": 3
   },
   "file_extension": ".py",
   "mimetype": "text/x-python",
   "name": "python",
   "nbconvert_exporter": "python",
   "pygments_lexer": "ipython3",
   "version": "3.8.5"
  }
 },
 "nbformat": 4,
 "nbformat_minor": 5
}
