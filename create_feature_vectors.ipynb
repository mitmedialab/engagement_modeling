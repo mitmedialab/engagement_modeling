{
 "cells": [
  {
   "cell_type": "markdown",
   "id": "0d1ca758",
   "metadata": {},
   "source": [
    "# Create feature vectors\n",
    "\n",
    "Since the annottaions are based on 5s (5\\*30fps), \n",
    "features are based on 64 frames (~2.5s)\n",
    "\n",
    "two things to be done to match the labels invistigation:\n",
    "- keep as is and match with the 2.5 lables \n",
    "- Fuse the feature vector to create a 5s equevelent \n",
    "- (1) concatenate: reshape the feature array to one long vector (5s) \n",
    "- (2) avergae the feature victors \n"
   ]
  },
  {
   "cell_type": "markdown",
   "id": "2e94050e",
   "metadata": {},
   "source": [
    "### imports & variables"
   ]
  },
  {
   "cell_type": "code",
   "execution_count": 12,
   "id": "3b3d677e",
   "metadata": {},
   "outputs": [],
   "source": [
    "import sys\n",
    "import numpy as np\n",
    "import os\n",
    "import pandas as pd\n",
    "\n",
    "lables_path = './labels/'\n",
    "all_folders_path = './features/'"
   ]
  },
  {
   "cell_type": "markdown",
   "id": "8f6ea4dd",
   "metadata": {},
   "source": [
    "### help functions"
   ]
  },
  {
   "cell_type": "code",
   "execution_count": 19,
   "id": "8dcf5a76",
   "metadata": {},
   "outputs": [],
   "source": [
    "def person_new_features(this_file,feature_folder, featureType, fusionType, divide):\n",
    "    currData = np.load(os.path.join(feature_folder,this_file))\n",
    "    reshape_span =2\n",
    "    t = currData.shape\n",
    "    cutoff = int(currData.shape[0]/2)*2 #<-- remove any extra 2.5 segment \n",
    "    currData=currData[:cutoff]\n",
    "    \n",
    "    if fusionType == 'avg':\n",
    "        currData = currData.transpose().reshape(-1,reshape_span).mean(1).reshape(currData.shape[1],-1).transpose()\n",
    "    else:\n",
    "        currData = currData.reshape((int(currData.shape[0]/2),int(currData.shape[1]*2)))\n",
    "    \n",
    "    \n",
    "    #folder like: i3d_flow_features_avg_5\n",
    "    new_feature_folder = '_'.join(['i3d',featureType,'features',fusionType,str(divide)])\n",
    "    os.makedirs(os.path.join(all_folders_path,new_feature_folder), exist_ok=True)\n",
    "    \n",
    "    \n",
    "    #print('{} in {} : {} -> {}'.format(new_feature_folder,this_file,t,currData.shape))\n",
    "    \n",
    "    np.save(os.path.join(all_folders_path,new_feature_folder,this_file), currData)\n",
    "    \n",
    "def create_new_features(feature_folder,featureType, fusionType, divide):\n",
    "    \n",
    "    onlyfiles = [f for f in os.listdir(feature_folder) if\n",
    "                   os.path.isfile(os.path.join(feature_folder, f))]\n",
    "    onlyfiles.sort()\n",
    "\n",
    "    for this_file in onlyfiles:\n",
    "        person_new_features(this_file,feature_folder, featureType, fusionType, divide)"
   ]
  },
  {
   "cell_type": "markdown",
   "id": "571d9dc5",
   "metadata": {},
   "source": [
    "### create the files"
   ]
  },
  {
   "cell_type": "code",
   "execution_count": 20,
   "id": "246b8912",
   "metadata": {},
   "outputs": [
    {
     "name": "stdout",
     "output_type": "stream",
     "text": [
      "Working on rgb_conc_5\n",
      "Working on rgb_avg_5\n",
      "Working on flow_conc_5\n",
      "Working on flow_avg_5\n"
     ]
    }
   ],
   "source": [
    "for featureType in ['rgb','flow']:\n",
    "    for fusionType in ['conc','avg']:\n",
    "        divide = 5\n",
    "        print('Working on {}_{}_{}'.format(featureType, fusionType, divide))\n",
    "        create_new_features(os.path.join(all_folders_path,'i3d_'+featureType+'_features'), \n",
    "                             featureType, fusionType, divide)"
   ]
  },
  {
   "cell_type": "code",
   "execution_count": null,
   "id": "b15378c9",
   "metadata": {},
   "outputs": [],
   "source": []
  }
 ],
 "metadata": {
  "kernelspec": {
   "display_name": "Python 3 (ipykernel)",
   "language": "python",
   "name": "python3"
  },
  "language_info": {
   "codemirror_mode": {
    "name": "ipython",
    "version": 3
   },
   "file_extension": ".py",
   "mimetype": "text/x-python",
   "name": "python",
   "nbconvert_exporter": "python",
   "pygments_lexer": "ipython3",
   "version": "3.8.5"
  }
 },
 "nbformat": 4,
 "nbformat_minor": 5
}
