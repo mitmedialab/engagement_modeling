{
 "cells": [
  {
   "cell_type": "markdown",
   "id": "1e42fc71",
   "metadata": {},
   "source": [
    "# Modlling for engagement \n",
    "\n",
    "now we have the features and the lables, we are ready for modelling \n",
    "- Classification vs regression\n",
    "- 9 vs 5 vs 3 scales lables \n",
    "- 2.5 vs 5 s window (as is features, average featuers and concatenate features)\n",
    "- Two-stream Fusion on RGB + Flow \n",
    "\n",
    "This should be done over:\n",
    "- different network artchictures\n",
    "- cross different familys cross-validation \n",
    "\n",
    "Later on:\n",
    "- Handcrafted features "
   ]
  },
  {
   "cell_type": "markdown",
   "id": "9243c294",
   "metadata": {},
   "source": [
    "### imports and vars"
   ]
  },
  {
   "cell_type": "code",
   "execution_count": 1,
   "id": "7dacd562",
   "metadata": {},
   "outputs": [],
   "source": [
    "import sys\n",
    "import numpy as np\n",
    "import os\n",
    "import pandas as pd\n",
    "import itertools\n",
    "import pickle\n",
    "import warnings\n",
    "from pickle import dump\n",
    "warnings.filterwarnings('ignore')\n",
    "\n",
    "import logging\n",
    "logger = logging.getLogger()\n",
    "logger.setLevel(logging.CRITICAL)\n",
    "\n",
    "import logging, sys\n",
    "logging.disable(sys.maxsize)\n",
    "\n",
    "import smote_variants as sv\n",
    "from collections import Counter\n",
    "from sklearn.utils import shuffle\n",
    "from sklearn.preprocessing import MinMaxScaler\n",
    "from sklearn.model_selection import StratifiedShuffleSplit\n",
    "from sklearn.model_selection import StratifiedKFold\n",
    "from operator import itemgetter\n",
    "\n",
    "import tensorflow as tf\n",
    "import keras\n",
    "from keras.models import Sequential\n",
    "from keras.layers import Dense, Dropout, Flatten\n",
    "\n",
    "# import ConfigSpace as CS\n",
    "# import ConfigSpace.hyperparameters as CSH\n",
    "\n",
    "# from hpbandster.core.worker import Worker\n",
    "# from hpbandster.optimizers import BOHB as BOHB\n",
    "# import hpbandster.core.nameserver as hpns\n",
    "# import hpbandster.core.result as hpres\n",
    "\n",
    "import tensorflow_addons as tfa\n",
    "\n",
    "lables_path = './labels/'\n",
    "features_path = './features/'\n",
    "results_path = './modelling_results/'"
   ]
  },
  {
   "cell_type": "markdown",
   "id": "ed83f4f9",
   "metadata": {},
   "source": [
    "### help functions \n"
   ]
  },
  {
   "cell_type": "code",
   "execution_count": 2,
   "id": "ac1b61f1",
   "metadata": {},
   "outputs": [],
   "source": [
    "def load_sub_dataset(familiesSet, label_folder, feature_folder, featureType):\n",
    "    # append all rows of subjects, and their lables\n",
    "    allFrames = np.array([])\n",
    "    allLables = np.array([])\n",
    "\n",
    "    for this_family in familiesSet:\n",
    "        # F10_Interaction_1_P27_rgb.npy\n",
    "        onlyfiles = [f for f in os.listdir(feature_folder) if\n",
    "                       os.path.isfile(os.path.join(feature_folder, f))\n",
    "                       and f.startswith(this_family + '_')]\n",
    "        onlyfiles.sort()\n",
    "\n",
    "        for this_file in onlyfiles:\n",
    "            currData = np.load(os.path.join(feature_folder,this_file))            \n",
    "            substr = '_'.join(this_file.split('_')[4:])\n",
    "            this_lable_file = this_file.replace('_'+substr,'')+'.npy'\n",
    "            currLabel = np.load(os.path.join(label_folder,this_lable_file))\n",
    "            cutoff = min(len(currData), len(currLabel))\n",
    "            currData = currData[:cutoff,:]\n",
    "            currLabel =currLabel[:cutoff]\n",
    "            \n",
    "            \n",
    "            if allFrames.shape[0] ==0:\n",
    "                allFrames = currData\n",
    "                allLables = currLabel\n",
    "            else:\n",
    "                allFrames = np.vstack((allFrames, currData))\n",
    "                allLables = np.hstack((allLables, currLabel))\n",
    "\n",
    "    return allFrames, allLables\n",
    "\n",
    "    \n",
    "def deploy_modlling(label_folder,feature_folder,shared_directory, prblemType, featureType, num_classes, confID):    \n",
    "    # repeat experiment\n",
    "    temp = {}\n",
    "    all_Subjs = ['F' + str(i) for i in [1, 2, 3, 4, 5, 6, 7, 8, 10, 11, 13, 17]]\n",
    "    classType = os.path.basename(shared_directory)\n",
    "    scaler = pickle.load(open(os.path.join(shared_directory,'scaler.pkl'), 'rb'))\n",
    "    \n",
    "    X, y = load_sub_dataset(all_Subjs, label_folder, feature_folder, featureType)\n",
    "    X = scaler.transform(X)\n",
    "    print(Counter(y))\n",
    "                 \n",
    "    # one hot encode y\n",
    "    trainy = tf.keras.utils.to_categorical(y,  num_classes=num_classes)\n",
    "    print(trainy[y==0][0])\n",
    "    print(trainy[y==1][0])\n",
    "    print(trainy[y==-1][0])\n",
    "    \n",
    "    \n",
    "    model_path = os.path.join(shared_directory,confID)\n",
    "    print('loading model: ',model_path)\n",
    "    model = keras.models.load_model(model_path,)\n",
    "    \n",
    "    score = model.evaluate(X, trainy, verbose=0)\n",
    "    predictions = model.predict(X)\n",
    "    \n",
    "    return score, predictions\n",
    "\n"
   ]
  },
  {
   "cell_type": "markdown",
   "id": "21f0d843",
   "metadata": {},
   "source": [
    "### modeling handcrafted "
   ]
  },
  {
   "cell_type": "code",
   "execution_count": 3,
   "id": "881ad505",
   "metadata": {
    "scrolled": true
   },
   "outputs": [
    {
     "name": "stdout",
     "output_type": "stream",
     "text": [
      "1\n",
      "Working on:  classification handcrafted_extra 3 5s\n",
      "Counter({1.0: 9183, 0.0: 1574, -1.0: 195})\n",
      "[1. 0. 0.]\n",
      "[0. 1. 0.]\n",
      "[0. 0. 1.]\n",
      "loading model:  ./modelling_results/handcrafted_extra_classification_3_5s_polynom_fit_SMOTE_final_1/(0, 0, 6)\n"
     ]
    },
    {
     "name": "stderr",
     "output_type": "stream",
     "text": [
      "2021-11-25 23:16:08.511855: I tensorflow/stream_executor/cuda/cuda_gpu_executor.cc:937] successful NUMA node read from SysFS had negative value (-1), but there must be at least one NUMA node, so returning NUMA node zero\n",
      "2021-11-25 23:16:08.514695: W tensorflow/stream_executor/platform/default/dso_loader.cc:64] Could not load dynamic library 'libcusolver.so.11'; dlerror: libcusolver.so.11: cannot open shared object file: No such file or directory; LD_LIBRARY_PATH: /home/sharifa/catkin_ws/devel/lib:/usr/local/cuda-11.0/lib64\n",
      "2021-11-25 23:16:08.515068: W tensorflow/stream_executor/platform/default/dso_loader.cc:64] Could not load dynamic library 'libcudnn.so.8'; dlerror: libcudnn.so.8: cannot open shared object file: No such file or directory; LD_LIBRARY_PATH: /home/sharifa/catkin_ws/devel/lib:/usr/local/cuda-11.0/lib64\n",
      "2021-11-25 23:16:08.515078: W tensorflow/core/common_runtime/gpu/gpu_device.cc:1835] Cannot dlopen some GPU libraries. Please make sure the missing libraries mentioned above are installed properly if you would like to use GPU. Follow the guide at https://www.tensorflow.org/install/gpu for how to download and setup the required libraries for your platform.\n",
      "Skipping registering GPU devices...\n",
      "2021-11-25 23:16:08.515283: I tensorflow/core/platform/cpu_feature_guard.cc:142] This TensorFlow binary is optimized with oneAPI Deep Neural Network Library (oneDNN) to use the following CPU instructions in performance-critical operations:  AVX2 FMA\n",
      "To enable them in other operations, rebuild TensorFlow with the appropriate compiler flags.\n",
      "2021-11-25 23:16:08.812665: I tensorflow/compiler/mlir/mlir_graph_optimization_pass.cc:185] None of the MLIR Optimization Passes are enabled (registered 2)\n"
     ]
    }
   ],
   "source": [
    "prblemTypes = ['classification']\n",
    "featureTypes = ['handcrafted_extra']\n",
    "classes = [3]\n",
    "fusionTypes = ['5s']\n",
    "sampling_methods = ['polynom_fit_SMOTE']\n",
    "\n",
    "permutations=[ prblemTypes, featureTypes, classes, fusionTypes]\n",
    "all_permutations = list(itertools.product(*permutations))\n",
    "print(len(all_permutations))\n",
    "for this_permutation in all_permutations:\n",
    "    round_num = '1'\n",
    "    confID = '(0, 0, 6)'\n",
    "    \n",
    "    (prblemType, featureType, eng_lvls, fusionType) = this_permutation\n",
    "    classType = 'round_avg_eng_level' if prblemType == 'classification' else 'avg_eng_level'\n",
    "\n",
    "    \n",
    "    print('Working on: ',prblemType, featureType, eng_lvls, fusionType)\n",
    "    \n",
    "    label_folder = os.path.join(lables_path,'_'.join([classType,'eng_lvl',prblemType,str(eng_lvls),str(fusionType)]))\n",
    "    feature_folder = os.path.join(features_path,'_'.join([featureType,'features',fusionType]))\n",
    "    \n",
    "    for sampling_method in sampling_methods:\n",
    "        result_folder = os.path.join(results_path,'_'.join([featureType,prblemType,\n",
    "                                                            str(eng_lvls),fusionType,sampling_method,'final',round_num]))\n",
    "\n",
    "    score, predictions = deploy_modlling(label_folder,feature_folder,result_folder, prblemType, featureType, eng_lvls, confID)#, divide,fusionType)\n"
   ]
  },
  {
   "cell_type": "code",
   "execution_count": 4,
   "id": "53f2cd8d",
   "metadata": {
    "scrolled": true
   },
   "outputs": [
    {
     "data": {
      "text/html": [
       "<div>\n",
       "<style scoped>\n",
       "    .dataframe tbody tr th:only-of-type {\n",
       "        vertical-align: middle;\n",
       "    }\n",
       "\n",
       "    .dataframe tbody tr th {\n",
       "        vertical-align: top;\n",
       "    }\n",
       "\n",
       "    .dataframe thead th {\n",
       "        text-align: right;\n",
       "    }\n",
       "</style>\n",
       "<table border=\"1\" class=\"dataframe\">\n",
       "  <thead>\n",
       "    <tr style=\"text-align: right;\">\n",
       "      <th></th>\n",
       "      <th>thisloss</th>\n",
       "      <th>tp</th>\n",
       "      <th>fp</th>\n",
       "      <th>tn</th>\n",
       "      <th>fn</th>\n",
       "      <th>acc</th>\n",
       "      <th>prec</th>\n",
       "      <th>rec</th>\n",
       "      <th>auc</th>\n",
       "      <th>BC</th>\n",
       "      <th>MCC</th>\n",
       "    </tr>\n",
       "  </thead>\n",
       "  <tbody>\n",
       "    <tr>\n",
       "      <th>score</th>\n",
       "      <td>0.063705</td>\n",
       "      <td>10779.0</td>\n",
       "      <td>171.0</td>\n",
       "      <td>21733.0</td>\n",
       "      <td>173.0</td>\n",
       "      <td>0.98953</td>\n",
       "      <td>0.984384</td>\n",
       "      <td>0.984204</td>\n",
       "      <td>0.996935</td>\n",
       "      <td>0.563511</td>\n",
       "      <td>0.942382</td>\n",
       "    </tr>\n",
       "  </tbody>\n",
       "</table>\n",
       "</div>"
      ],
      "text/plain": [
       "       thisloss       tp     fp       tn     fn      acc      prec       rec  \\\n",
       "score  0.063705  10779.0  171.0  21733.0  173.0  0.98953  0.984384  0.984204   \n",
       "\n",
       "            auc        BC       MCC  \n",
       "score  0.996935  0.563511  0.942382  "
      ]
     },
     "execution_count": 4,
     "metadata": {},
     "output_type": "execute_result"
    }
   ],
   "source": [
    "the_columns = ['thisloss','tp','fp','tn','fn','acc','prec','rec','auc','BC','MCC']\n",
    "resultsDF = pd.DataFrame([score],columns=the_columns,index=[\"score\"],)\n",
    "resultsDF"
   ]
  },
  {
   "cell_type": "code",
   "execution_count": 5,
   "id": "3537c8e8",
   "metadata": {},
   "outputs": [
    {
     "data": {
      "text/plain": [
       "array([1, 0, 0, ..., 0, 1, 0])"
      ]
     },
     "execution_count": 5,
     "metadata": {},
     "output_type": "execute_result"
    }
   ],
   "source": [
    "np.argmax(predictions, axis=1)"
   ]
  },
  {
   "cell_type": "code",
   "execution_count": 6,
   "id": "934afc90",
   "metadata": {},
   "outputs": [
    {
     "data": {
      "text/plain": [
       "array([[0., 1., 0.],\n",
       "       [1., 0., 0.],\n",
       "       [1., 0., 0.],\n",
       "       ...,\n",
       "       [1., 0., 0.],\n",
       "       [0., 1., 0.],\n",
       "       [1., 0., 0.]], dtype=float32)"
      ]
     },
     "execution_count": 6,
     "metadata": {},
     "output_type": "execute_result"
    }
   ],
   "source": [
    "predictions.round()"
   ]
  },
  {
   "cell_type": "code",
   "execution_count": 7,
   "id": "2d2cdd17",
   "metadata": {},
   "outputs": [
    {
     "data": {
      "text/plain": [
       "Counter({1: 9271, 0: 1479, 2: 202})"
      ]
     },
     "execution_count": 7,
     "metadata": {},
     "output_type": "execute_result"
    }
   ],
   "source": [
    "\n",
    "Counter(np.argmax(predictions, axis=1))"
   ]
  },
  {
   "cell_type": "code",
   "execution_count": 8,
   "id": "26ab1a35",
   "metadata": {},
   "outputs": [
    {
     "name": "stdout",
     "output_type": "stream",
     "text": [
      "10952\n",
      "10952\n"
     ]
    }
   ],
   "source": [
    "# Counter({1.0: 9183, 0.0: 1574, -1.0: 195})\n",
    "# Counter({1: 9271, 0: 1479, 2: 202})\n",
    "print(9183+1574+195)\n",
    "print(9271+1479+202)"
   ]
  },
  {
   "cell_type": "code",
   "execution_count": 9,
   "id": "919e2cda",
   "metadata": {},
   "outputs": [],
   "source": [
    "# predictions[np.argmax(predictions, axis=1)==2].round()"
   ]
  },
  {
   "cell_type": "code",
   "execution_count": 10,
   "id": "b91e914c",
   "metadata": {},
   "outputs": [],
   "source": [
    "from sklearn.metrics import confusion_matrix"
   ]
  },
  {
   "cell_type": "code",
   "execution_count": 15,
   "id": "f74d3cd6",
   "metadata": {},
   "outputs": [],
   "source": [
    "all_Subjs = ['F' + str(i) for i in [1, 2, 3, 4, 5, 6, 7, 8, 10, 11, 13, 17]]\n",
    "\n",
    "prblemType, featureType, eng_lvls, fusionType = 'classification','handcrafted_extra',3,'5s'\n",
    "sampling_method = 'polynom_fit_SMOTE'\n",
    "classType = 'round_avg_eng_level' if prblemType == 'classification' else 'avg_eng_level'\n",
    "    \n",
    "result_folder = os.path.join(results_path,'_'.join([featureType,prblemType,\n",
    "                                                            str(eng_lvls),fusionType,sampling_method,'final',round_num]))\n",
    "\n",
    "label_folder = os.path.join(lables_path,'_'.join([classType,'eng_lvl',prblemType,str(eng_lvls),str(fusionType)]))\n",
    "feature_folder = os.path.join(features_path,'_'.join([featureType,'features',fusionType]))\n",
    "\n",
    "classType = os.path.basename(result_folder)\n",
    "X, y_true = load_sub_dataset(all_Subjs, label_folder, feature_folder, featureType)\n",
    "\n",
    "y_true[y_true==-1]=2\n",
    "y_pred = np.argmax(predictions, axis=1)"
   ]
  },
  {
   "cell_type": "code",
   "execution_count": 16,
   "id": "5394071c",
   "metadata": {},
   "outputs": [
    {
     "data": {
      "text/plain": [
       "array([[1442,  128,    4],\n",
       "       [  37, 9143,    3],\n",
       "       [   0,    0,  195]])"
      ]
     },
     "execution_count": 16,
     "metadata": {},
     "output_type": "execute_result"
    }
   ],
   "source": [
    "confusion_matrix(y_true, y_pred)"
   ]
  },
  {
   "cell_type": "code",
   "execution_count": 17,
   "id": "7f42ce9b",
   "metadata": {},
   "outputs": [
    {
     "data": {
      "text/plain": [
       "array([1479, 9271,  202])"
      ]
     },
     "execution_count": 17,
     "metadata": {},
     "output_type": "execute_result"
    }
   ],
   "source": [
    "sum(confusion_matrix(y_true, y_pred))"
   ]
  },
  {
   "cell_type": "code",
   "execution_count": 18,
   "id": "e2b500a6",
   "metadata": {},
   "outputs": [
    {
     "data": {
      "text/plain": [
       "10952"
      ]
     },
     "execution_count": 18,
     "metadata": {},
     "output_type": "execute_result"
    }
   ],
   "source": [
    "sum(sum(confusion_matrix(y_true, y_pred)))"
   ]
  },
  {
   "cell_type": "code",
   "execution_count": 26,
   "id": "9d387a83",
   "metadata": {},
   "outputs": [
    {
     "data": {
      "image/png": "[encoded data removed]",
      "text/plain": [
       "<Figure size 432x288 with 2 Axes>"
      ]
     },
     "metadata": {
      "needs_background": "light"
     },
     "output_type": "display_data"
    }
   ],
   "source": [
    "import matplotlib.pyplot as plt\n",
    "from sklearn.datasets import make_classification\n",
    "from sklearn.metrics import confusion_matrix, ConfusionMatrixDisplay\n",
    "from sklearn.model_selection import train_test_split\n",
    "from sklearn.svm import SVC\n",
    "\n",
    "classes_ = np.array([0,1,2])\n",
    "classes_neame = np.array(['N','E','DE'])\n",
    "cm = confusion_matrix(y_true, y_pred, labels=classes_)\n",
    "cm = cm / cm.astype(np.float).sum(axis=1)\n",
    "disp = ConfusionMatrixDisplay(confusion_matrix=cm,\n",
    "                              display_labels=classes_neame)\n",
    "disp.plot()\n",
    "\n",
    "plt.show()"
   ]
  },
  {
   "cell_type": "code",
   "execution_count": null,
   "id": "a0c42406",
   "metadata": {},
   "outputs": [],
   "source": []
  }
 ],
 "metadata": {
  "kernelspec": {
   "display_name": "Python 3 (ipykernel)",
   "language": "python",
   "name": "python3"
  },
  "language_info": {
   "codemirror_mode": {
    "name": "ipython",
    "version": 3
   },
   "file_extension": ".py",
   "mimetype": "text/x-python",
   "name": "python",
   "nbconvert_exporter": "python",
   "pygments_lexer": "ipython3",
   "version": "3.8.5"
  }
 },
 "nbformat": 4,
 "nbformat_minor": 5
}
