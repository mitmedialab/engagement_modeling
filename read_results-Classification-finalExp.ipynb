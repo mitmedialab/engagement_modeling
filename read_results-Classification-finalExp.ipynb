{
 "cells": [
  {
   "cell_type": "markdown",
   "id": "8ac13b78",
   "metadata": {},
   "source": [
    "# Reading & analyzing results\n",
    "now all the results of all premutions are sored as pkl \n",
    "\n",
    "we need to get the best results of all "
   ]
  },
  {
   "cell_type": "markdown",
   "id": "b8f546f7",
   "metadata": {},
   "source": [
    "### import & vars"
   ]
  },
  {
   "cell_type": "code",
   "execution_count": 1,
   "id": "94362504",
   "metadata": {},
   "outputs": [],
   "source": [
    "import sys\n",
    "import numpy as np\n",
    "import os\n",
    "import pandas as pd\n",
    "import itertools\n",
    "import pickle\n",
    "\n",
    "from collections import Counter\n",
    "from sklearn.utils import shuffle\n",
    "from imblearn.over_sampling import RandomOverSampler as resample\n",
    "\n",
    "lables_path = './labels/'\n",
    "features_path = './features/'\n",
    "results_path = './modelling_results/'"
   ]
  },
  {
   "cell_type": "markdown",
   "id": "52cb73d4",
   "metadata": {},
   "source": [
    "### help functions"
   ]
  },
  {
   "cell_type": "code",
   "execution_count": null,
   "id": "f08c31d8",
   "metadata": {},
   "outputs": [],
   "source": [
    "\n"
   ]
  },
  {
   "cell_type": "markdown",
   "id": "0c32a759",
   "metadata": {},
   "source": [
    "### let's analyze "
   ]
  },
  {
   "cell_type": "markdown",
   "id": "4ce866ba",
   "metadata": {},
   "source": [
    "### step 1 -- combine in one guint cvs"
   ]
  },
  {
   "cell_type": "code",
   "execution_count": 2,
   "id": "56622524",
   "metadata": {
    "scrolled": true
   },
   "outputs": [
    {
     "name": "stdout",
     "output_type": "stream",
     "text": [
      "handcrafted_extra_classification_2_2.5_polynom_fit_SMOTE_0\n",
      "handcrafted_extra_classification_2_2.5_polynom_fit_SMOTE_1\n",
      "handcrafted_extra_classification_2_2.5_polynom_fit_SMOTE_2\n",
      "handcrafted_extra_classification_2_2.5_polynom_fit_SMOTE_3\n",
      "handcrafted_extra_classification_2_2.5_polynom_fit_SMOTE_4\n",
      "handcrafted_extra_classification_2_5_polynom_fit_SMOTE_0\n",
      "handcrafted_extra_classification_2_5_polynom_fit_SMOTE_1\n",
      "handcrafted_extra_classification_2_5_polynom_fit_SMOTE_2\n",
      "handcrafted_extra_classification_2_5_polynom_fit_SMOTE_3\n",
      "handcrafted_extra_classification_2_5_polynom_fit_SMOTE_4\n",
      "handcrafted_extra_classification_2_5s_polynom_fit_SMOTE_0\n",
      "handcrafted_extra_classification_2_5s_polynom_fit_SMOTE_1\n",
      "handcrafted_extra_classification_2_5s_polynom_fit_SMOTE_2\n",
      "handcrafted_extra_classification_2_5s_polynom_fit_SMOTE_3\n",
      "handcrafted_extra_classification_2_5s_polynom_fit_SMOTE_4\n",
      "handcrafted_extra_classification_3_2.5_polynom_fit_SMOTE_0\n",
      "handcrafted_extra_classification_3_2.5_polynom_fit_SMOTE_1\n",
      "handcrafted_extra_classification_3_2.5_polynom_fit_SMOTE_2\n",
      "handcrafted_extra_classification_3_2.5_polynom_fit_SMOTE_3\n",
      "handcrafted_extra_classification_3_2.5_polynom_fit_SMOTE_4\n",
      "handcrafted_extra_classification_3_5_polynom_fit_SMOTE_0\n",
      "handcrafted_extra_classification_3_5_polynom_fit_SMOTE_1\n",
      "handcrafted_extra_classification_3_5_polynom_fit_SMOTE_2\n",
      "handcrafted_extra_classification_3_5_polynom_fit_SMOTE_3\n",
      "handcrafted_extra_classification_3_5_polynom_fit_SMOTE_4\n",
      "handcrafted_extra_classification_3_5s_polynom_fit_SMOTE_0\n",
      "handcrafted_extra_classification_3_5s_polynom_fit_SMOTE_1\n",
      "handcrafted_extra_classification_3_5s_polynom_fit_SMOTE_2\n",
      "handcrafted_extra_classification_3_5s_polynom_fit_SMOTE_3\n",
      "handcrafted_extra_classification_3_5s_polynom_fit_SMOTE_4\n",
      "handcrafted_extra_classification_5_2.5_polynom_fit_SMOTE_0\n",
      "handcrafted_extra_classification_5_2.5_polynom_fit_SMOTE_1\n",
      "handcrafted_extra_classification_5_2.5_polynom_fit_SMOTE_2\n",
      "handcrafted_extra_classification_5_2.5_polynom_fit_SMOTE_3\n",
      "handcrafted_extra_classification_5_2.5_polynom_fit_SMOTE_4\n",
      "handcrafted_extra_classification_5_5_polynom_fit_SMOTE_0\n",
      "handcrafted_extra_classification_5_5_polynom_fit_SMOTE_1\n",
      "handcrafted_extra_classification_5_5_polynom_fit_SMOTE_2\n",
      "handcrafted_extra_classification_5_5_polynom_fit_SMOTE_3\n",
      "handcrafted_extra_classification_5_5_polynom_fit_SMOTE_4\n",
      "handcrafted_extra_classification_5_5s_polynom_fit_SMOTE_0\n",
      "handcrafted_extra_classification_5_5s_polynom_fit_SMOTE_1\n",
      "handcrafted_extra_classification_5_5s_polynom_fit_SMOTE_2\n",
      "handcrafted_extra_classification_5_5s_polynom_fit_SMOTE_3\n",
      "handcrafted_extra_classification_5_5s_polynom_fit_SMOTE_4\n"
     ]
    }
   ],
   "source": [
    "repeats = 0\n",
    "best_results = pd.DataFrame([])\n",
    "\n",
    "onlyfolders = [f for f in os.listdir(results_path) if not\n",
    "                       os.path.isfile(os.path.join(results_path, f))\n",
    "                       and f.count('handcrafted_extra_classification') > 0]\n",
    "onlyfolders.sort()\n",
    "    \n",
    "for this_folder in onlyfolders:\n",
    "    print(this_folder)\n",
    "    #featureType,prblemType,eng_lvls,divide,fusionType,repeats = this_folder.split('_')\n",
    "    ss = len(this_folder.split('_'))\n",
    "    if ss == 5:\n",
    "        featureType,prblemType,eng_lvls,divide,repeats = this_folder.split('_')\n",
    "        fusionType = 'none'\n",
    "    elif ss == 6:\n",
    "        featureType,prblemType,eng_lvls,divide,fusionType,repeats = this_folder.split('_')\n",
    "    elif ss ==7:\n",
    "        featureType,prblemType,eng_lvls,divide,fusionType1,fusionType2,repeats = this_folder.split('_')\n",
    "        fusionType = '_'.join([fusionType1,fusionType2])\n",
    "    elif ss ==8:\n",
    "        featureType,prblemType,eng_lvls,divide,fusionType1,fusionType2,fusionType3,repeats = this_folder.split('_')\n",
    "        fusionType = '_'.join([fusionType1,fusionType2,fusionType3])\n",
    "    elif ss ==9:\n",
    "        featureType1,featureType2,prblemType,eng_lvls,divide,fusionType1,fusionType2,fusionType3,repeats = this_folder.split('_')\n",
    "        featureType = '_'.join([featureType1,featureType2])\n",
    "        fusionType = '_'.join([fusionType1,fusionType2,fusionType3])\n",
    "    else:\n",
    "        print('Cannot parse:',this_folder.split('_'))\n",
    "\n",
    "    shared_directory = os.path.join(results_path,this_folder)\n",
    "    \n",
    "    results_file = os.path.join(shared_directory,'results.pkl')\n",
    "    if not os.path.exists(results_file):\n",
    "        print('ERROR: file {} does not exsist'.format(results_file))\n",
    "        continue\n",
    "        \n",
    "    try:\n",
    "        res = pickle.load(open(results_file, \"rb\" ))\n",
    "    except:\n",
    "        continue\n",
    "    id2config = res.get_id2config_mapping()\n",
    "    incumbent = res.get_incumbent_id()\n",
    "    \n",
    "\n",
    "    this_data = res[incumbent]\n",
    "    new_dic = dict(zip([key for key in this_data.results.keys()],\\\n",
    "                       [this_data.results[k]['loss'] for k in this_data.results.keys()]))\n",
    " \n",
    "    bugKey = min(new_dic, key=new_dic.get)\n",
    "    \n",
    "    this_results = pd.DataFrame.from_dict(this_data.results[bugKey]['info']).T\n",
    "    this_results['budget'] = str(bugKey)\n",
    "    this_results['confID'] = str(incumbent)\n",
    "    this_results['featureType'] = featureType\n",
    "    this_results['prblemType'] = prblemType\n",
    "    this_results['eng_lvls'] = eng_lvls\n",
    "    this_results['divide'] = divide\n",
    "    this_results['fusionType'] = fusionType\n",
    "    this_results['repeats'] = repeats\n",
    "\n",
    "    this_results.set_index(['featureType', 'prblemType', 'confID',\\\n",
    "                            'budget', 'eng_lvls', 'divide','fusionType','repeats'],\\\n",
    "                           append=True, inplace=True)\n",
    "    # cols = this_results.columns.tolist()\n",
    "\n",
    "    best_results = best_results if len(this_results) ==0 else best_results.append(this_results)\n",
    "\n",
    "best_results.to_csv(os.path.join(results_path,'best_classification_results_handcrafted_extra_normalized.csv'))\n",
    "    \n",
    "\n"
   ]
  },
  {
   "cell_type": "code",
   "execution_count": null,
   "id": "4f353d90",
   "metadata": {},
   "outputs": [],
   "source": []
  }
 ],
 "metadata": {
  "kernelspec": {
   "display_name": "Python 3 (ipykernel)",
   "language": "python",
   "name": "python3"
  },
  "language_info": {
   "codemirror_mode": {
    "name": "ipython",
    "version": 3
   },
   "file_extension": ".py",
   "mimetype": "text/x-python",
   "name": "python",
   "nbconvert_exporter": "python",
   "pygments_lexer": "ipython3",
   "version": "3.8.5"
  }
 },
 "nbformat": 4,
 "nbformat_minor": 5
}
