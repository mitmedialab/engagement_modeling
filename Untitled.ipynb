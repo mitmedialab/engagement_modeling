{
 "cells": [
  {
   "cell_type": "code",
   "execution_count": 5,
   "id": "4b56b5d0",
   "metadata": {},
   "outputs": [
    {
     "name": "stdout",
     "output_type": "stream",
     "text": [
      "[[1, 2, 3], [3, 2, 1]]\n"
     ]
    }
   ],
   "source": [
    "lis = [[1,2,3],[3,2,1]]\n",
    "print(lis)"
   ]
  },
  {
   "cell_type": "code",
   "execution_count": 17,
   "id": "672dad29",
   "metadata": {},
   "outputs": [
    {
     "name": "stdout",
     "output_type": "stream",
     "text": [
      "[1. 2. 1. 3. 2. 3. 2. 2. 2.]\n"
     ]
    }
   ],
   "source": [
    "import numpy as np\n",
    "mn = np.min(lis, axis=0)\n",
    "mx = np.max(lis, axis=0)\n",
    "vg = np.mean(lis, axis=0)\n",
    "\n",
    "ll = np.append(mn,np.append(mx,vg))\n",
    "print(ll)"
   ]
  },
  {
   "cell_type": "code",
   "execution_count": 22,
   "id": "675ad5b4",
   "metadata": {},
   "outputs": [
    {
     "data": {
      "text/plain": [
       "False"
      ]
     },
     "execution_count": 22,
     "metadata": {},
     "output_type": "execute_result"
    }
   ],
   "source": [
    "import os\n",
    "points_folder = '/home/sharifa/speedDating/speedDating_Detectron_named_3D_with_gazeFollow/F11_Interaction_1.mp4/F11_Interaction_1_frame-json'\n",
    "\n",
    "os.path.basename(points_folder).startswith('F17_Interaction_1')"
   ]
  },
  {
   "cell_type": "code",
   "execution_count": 25,
   "id": "4b73a428",
   "metadata": {},
   "outputs": [
    {
     "data": {
      "text/plain": [
       "(62,)"
      ]
     },
     "execution_count": 25,
     "metadata": {},
     "output_type": "execute_result"
    }
   ],
   "source": [
    "np.array([-2.05610044e+01, -2.49474016e+01,  1.75163806e+02,  5.98428190e-01,\n",
    "        5.44871926e-01,  4.82567251e-01,  4.48868304e-01,  2.26417124e-01,\n",
    "        8.99149996e-02,  7.50586237e-02, -3.10178773e+00,  2.26469786e+00,\n",
    "       -2.30251340e+01,  1.74051133e+02,  5.74299920e-02, -3.14771989e-04,\n",
    "        3.66965574e-01,  6.40392005e-02,  6.25108361e-01,  5.45305252e-01,\n",
    "        4.22768831e-01,  8.96510929e-02,  5.70837915e-01,  5.00716329e-01,\n",
    "        2.62997448e-01,  3.13029975e-01, -2.35426011e-01,  3.34601149e-01,\n",
    "        7.83285711e-02,  2.83441860e-02,  5.74299920e-02, -3.14771989e-04,\n",
    "        3.66965574e-01,  6.40392005e-02,  6.25108361e-01,  5.45305252e-01,\n",
    "        4.22768831e-01,  8.96510929e-02,  5.70837915e-01,  5.00716329e-01,\n",
    "        2.62997448e-01,  3.13029975e-01, -2.35426011e-01,  3.34601149e-01,\n",
    "        7.83285711e-02,  2.83441860e-02,  5.74299920e-02, -3.14771989e-04,\n",
    "        3.66965574e-01,  6.40392005e-02,  6.25108361e-01,  5.45305252e-01,\n",
    "        4.22768831e-01,  8.96510929e-02,  5.70837915e-01,  5.00716329e-01,\n",
    "        2.62997448e-01,  3.13029975e-01, -2.35426011e-01,  3.34601149e-01,\n",
    "        7.83285711e-02,  2.83441860e-02]).shape"
   ]
  },
  {
   "cell_type": "code",
   "execution_count": null,
   "id": "a4ce9e6d",
   "metadata": {},
   "outputs": [],
   "source": []
  }
 ],
 "metadata": {
  "kernelspec": {
   "display_name": "Python 3 (ipykernel)",
   "language": "python",
   "name": "python3"
  },
  "language_info": {
   "codemirror_mode": {
    "name": "ipython",
    "version": 3
   },
   "file_extension": ".py",
   "mimetype": "text/x-python",
   "name": "python",
   "nbconvert_exporter": "python",
   "pygments_lexer": "ipython3",
   "version": "3.8.5"
  }
 },
 "nbformat": 4,
 "nbformat_minor": 5
}
